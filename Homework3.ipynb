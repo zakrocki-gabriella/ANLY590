{
  "nbformat": 4,
  "nbformat_minor": 0,
  "metadata": {
    "colab": {
      "name": "Homework3.ipynb",
      "provenance": [],
      "toc_visible": true,
      "authorship_tag": "ABX9TyN4CkQWf1L9yDK2QNCkVXWX",
      "include_colab_link": true
    },
    "kernelspec": {
      "name": "python3",
      "display_name": "Python 3"
    }
  },
  "cells": [
    {
      "cell_type": "markdown",
      "metadata": {
        "id": "view-in-github",
        "colab_type": "text"
      },
      "source": [
        "<a href=\"https://colab.research.google.com/github/zakrocki-gabriella/ANLY590/blob/master/Homework3.ipynb\" target=\"_parent\"><img src=\"https://colab.research.google.com/assets/colab-badge.svg\" alt=\"Open In Colab\"/></a>"
      ]
    },
    {
      "cell_type": "markdown",
      "metadata": {
        "id": "qXzLMpZL0WlK"
      },
      "source": [
        "# ANLY590 - Homework 3\n"
      ]
    },
    {
      "cell_type": "markdown",
      "metadata": {
        "id": "bNsvG0ay0x1l"
      },
      "source": [
        "1. Autoencoder\n"
      ]
    },
    {
      "cell_type": "code",
      "metadata": {
        "id": "X-EBJvmK0Udd"
      },
      "source": [
        ""
      ],
      "execution_count": null,
      "outputs": []
    },
    {
      "cell_type": "code",
      "metadata": {
        "id": "0HLdawK90Vg3"
      },
      "source": [
        ""
      ],
      "execution_count": null,
      "outputs": []
    }
  ]
}
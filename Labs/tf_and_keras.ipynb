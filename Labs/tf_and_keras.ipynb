{
 "cells": [
  {
   "cell_type": "code",
   "execution_count": 1,
   "metadata": {
    "id": "i_SjPxONCeUY"
   },
   "outputs": [],
   "source": [
    "import numpy as np\n",
    "import tensorflow as tf\n",
    "import matplotlib.pyplot as plt"
   ]
  },
  {
   "cell_type": "markdown",
   "metadata": {
    "id": "xnjjUBk2USFz"
   },
   "source": [
    "#### first steps in TensorFlow\n",
    "\n",
    "TensorFlow is a framework for automatic differentiation. It has an interface very similar to that of NumPy operating on array data. Let's start by rewriting our NumPy functions for a single neural net layer and a simple two-layer neural net in TensorFlow.\n",
    "\n",
    "A few notes:\n",
    "1. Instead of using `np.dot` for matrix multiplication, check out the `tf.matmul` function instead.\n",
    "2. TensorFlow already has built-in functions for all of the common neural net activation functions with the exception of the \"linear\" activation function, which in TensorFlow is often thought of as having no activation function (since $f(x)=x$ does not change the input). We show you where to find these activation functions in the package and provide a simple implementation of the linear activation function.\n",
    "3. notice that we are using a slightly different function signature for the neural network that lets us pack all of the parameters (weights and biases) into a list, as this will be convenient later when it comes to fitting the model."
   ]
  },
  {
   "cell_type": "code",
   "execution_count": 5,
   "metadata": {
    "id": "i9Rg-tq8CkvB"
   },
   "outputs": [],
   "source": [
    "# activation functions\n",
    "tf.nn.sigmoid\n",
    "tf.nn.tanh\n",
    "tf.nn.relu\n",
    "linear = lambda x: x\n",
    "\n",
    "def nn_layer(x, w, b, f):\n",
    "  '''\n",
    "  transformation for a single layer of a neural net\n",
    "\n",
    "  x: array on inputs, shape: (batch size, input dim)\n",
    "  w: array of weights, shape: (input dim, output dim)\n",
    "  b: array of biases, shape: (output dim)\n",
    "  f: activation function\n",
    "  '''\n",
    "  return f(tf.matmul(x,w) + b)\n",
    "#can also use tensordot(x,w,axis = 1) instead of tf.matmul\n",
    "#f(x @ w + b)\n",
    "\n",
    "def nn_2layers(x, params, f_hidden, f_out):\n",
    "  '''\n",
    "  transformation for simple 2 layer neural net (hidden + output layers)\n",
    "\n",
    "  x: array of inputs\n",
    "  params: list of parameter arrays: [w_1, b_1, w_2, b_2]\n",
    "  f_hidden: activation function on the hidden layer\n",
    "  f_out: output function on the output layer\n",
    "  '''\n",
    "\n",
    "  hidden = nn_layer(x, params[0], params[1], f_hidden)\n",
    "  return nn_layer(hidden,params[2], params[3], f_out)\n"
   ]
  },
  {
   "cell_type": "markdown",
   "metadata": {
    "id": "JhThmdLRY-3_"
   },
   "source": [
    "Here is a quick test to check if your code is working, at least for a simple case"
   ]
  },
  {
   "cell_type": "code",
   "execution_count": 6,
   "metadata": {
    "id": "gAEL5fDSW18b"
   },
   "outputs": [],
   "source": [
    "w1 = tf.ones((1, 10))\n",
    "b1 = tf.zeros(10)\n",
    "w2 = tf.ones((10, 1))\n",
    "b2 = tf.ones(1)\n",
    "x = 2 * tf.ones((1, 1))\n",
    "yhat = nn_2layers(x, [w1, b1, w2, b2], linear, linear)\n",
    "assert yhat.numpy().squeeze() == 21."
   ]
  },
  {
   "cell_type": "markdown",
   "metadata": {
    "id": "WG9xLmTVZVku"
   },
   "source": [
    "Now let's take a quick look at how TensorFlow can compute derivatives/gradients in a few simpler cases as we build up to using it to fit a neural network.\n",
    "\n",
    "First let's do a simple function where we know the answer -- let's compute the derivative of $f(x) = x^2 + 5x$.\n",
    "\n",
    "Do do this we the `tf.GradientTape()` object as a \"context manager\" where TensorFlow will track the computational graph of the calculation of $f(x)$ during the \"forward pass\". Then we can ask the tape to for the derivate of one of our values with respect to another, and it will be able to use the information that it stored to compute the \"backward pass\" to produce the desired result.\n",
    "\n",
    "We will compute the gradient at $x = 1$, where we know the results should be:\n",
    "$$\n",
    "\\begin{align}\n",
    "f(1) &=  1^2 + 5 = 6 \\\\\n",
    "f'(x) &= 2x+5 \\\\\n",
    "f'(1) &= 2\\cdot 1 + 5 = 7\n",
    "\\end{align}\n",
    "$$"
   ]
  },
  {
   "cell_type": "code",
   "execution_count": 7,
   "metadata": {
    "id": "JRFyaC0UZTmU"
   },
   "outputs": [
    {
     "name": "stdout",
     "output_type": "stream",
     "text": [
      "tf.Tensor(6.0, shape=(), dtype=float32)\n",
      "tf.Tensor(7.0, shape=(), dtype=float32)\n"
     ]
    }
   ],
   "source": [
    "x = tf.Variable(1.0)\n",
    "with tf.GradientTape() as tape:\n",
    "  f_x = x**2 + 5*x\n",
    "print(f_x)\n",
    "print(tape.gradient(f_x, x))\n",
    "\n",
    "## this is using eager evaluation"
   ]
  },
  {
   "cell_type": "markdown",
   "metadata": {
    "id": "3uxUuSVkmg2U"
   },
   "source": [
    "Now let's try something a little more challenging. Consider the function\n",
    "$$\n",
    "f(x, y) = \\frac{e^x\\cdot \\sin{\\sqrt{y + x^3}}}{\\tanh{y}}\n",
    "$$\n",
    "Compute its gradient:\n",
    "$$\n",
    "\\Big[\\frac{\\partial f}{\\partial x}, \\frac{\\partial f}{\\partial y}\\Big]\n",
    "$$\n",
    "when $x = 1$, $y = 2$.\n",
    "\n",
    "Look at the docs for `GradientTape.gradient` to figure out how to compute multiple derivatives at once."
   ]
  },
  {
   "cell_type": "code",
<<<<<<< HEAD
   "execution_count": 4,
=======
   "execution_count": 22,
>>>>>>> f7bfc6f5ba9078175fdf5ca791f86ee58d8d145f
   "metadata": {
    "id": "MoVyu6BXmaF0"
   },
   "outputs": [
    {
     "name": "stdout",
     "output_type": "stream",
     "text": [
      "tf.Tensor(2.7831326, shape=(), dtype=float32)\n",
      "[<tf.Tensor: shape=(), dtype=float32, numpy=2.3910627>, <tf.Tensor: shape=(), dtype=float32, numpy=-0.3346578>]\n"
     ]
    }
   ],
   "source": [
    "x = tf.Variable(1.0)\n",
    "y = tf.Variable(2.0)\n",
    "with tf.GradientTape() as tape:\n",
    "    f_x_y = (tf.exp(x) * tf.sin(tf.sqrt(y + x**3)))/(tf.nn.tanh(y))\n",
    "print(f_x_y)\n",
    "print(tape.gradient(f_x_y,[x,y]))\n",
<<<<<<< HEAD
    "     "
=======
    "      "
>>>>>>> f7bfc6f5ba9078175fdf5ca791f86ee58d8d145f
   ]
  },
  {
   "cell_type": "markdown",
   "metadata": {
    "id": "OYMrGuElowbD"
   },
   "source": [
    "Now that you know how to compute gradients of any function, it's time to put this to use fitting a neural net. First, here is some synthetic nonlinear regression data to which we can fit our model."
   ]
  },
  {
   "cell_type": "code",
   "execution_count": 19,
   "metadata": {
    "id": "UGQSviJORkp5"
   },
   "outputs": [
    {
     "data": {
      "image/png": "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\n",
      "text/plain": [
       "<Figure size 432x288 with 1 Axes>"
      ]
     },
     "metadata": {
      "needs_background": "light"
     },
     "output_type": "display_data"
    }
   ],
   "source": [
    "n = 200\n",
    "x = np.random.uniform(low=-1, high=1, size=n)\n",
    "eps = 0.2 * np.random.randn(n)\n",
    "y = 4 * x * np.sin(4 * x) + eps\n",
    "\n",
    "x, y = x[:, np.newaxis].astype(np.float32), y[:, np.newaxis].astype(np.float32)\n",
    "\n",
    "plt.scatter(x, y, s=10)\n",
    "plt.show()"
   ]
  },
  {
   "cell_type": "markdown",
   "metadata": {
    "id": "LqZTsTfjpMbB"
   },
   "source": [
    "TensorFlow helps us compute gradients of functions. When fitting a neural net via gradient descent, the function that we want to take the gradient of is the loss function. So start by writting a function that compute the loss that we will use for our regression problem: mean squared error.\n",
    "\n",
    "If you need to take an average (hint: you should probably be taking an average), checkout out the `tf.reduce_mean` fuction."
   ]
  },
  {
   "cell_type": "code",
   "execution_count": 37,
   "metadata": {
    "id": "p2whoJ_K2Rm7"
   },
   "outputs": [],
   "source": [
    "def mse(y_true, y_pred):\n",
    "  '''\n",
    "  y_true: array of target values, shape: (batch size, 1)\n",
    "  y_pred: array of predicted values, shape: (batch size, 1)\n",
    "  '''\n",
    "  return tf.reduce_mean((y_pred - y_true)**2)"
   ]
  },
  {
   "cell_type": "markdown",
   "metadata": {
    "id": "3x1eJgx1puiJ"
   },
   "source": [
    "Now let's write a function that does a single step of gradient descent. It should:\n",
    "1. use a gradient tape to track computation\n",
    "2. use `nn_2layers` to compute the prediction from the inputs\n",
    "3. use the `mse` function to compute the loss from the predictions and the targets\n",
    "4. use the gradient tape to compute the gradients\n",
    "5. use the gradients and the step size to update the parameters\n",
    "\n",
    "For updating the variable values, use the `assign()` method on any `Variable` rather than the usual Python assignment operator (`=`)"
   ]
  },
  {
   "cell_type": "code",
   "execution_count": 47,
   "metadata": {
    "id": "tROIynfPrGDy"
   },
   "outputs": [],
   "source": [
    "def grad_step(x, y, params, f_hidden, f_out, step_size):\n",
    "  '''\n",
    "  updates `params` for a single step of gradient descent\n",
    "\n",
    "  x: array of inputs, shape: (batch size, input dim)\n",
    "  y: array of targets, shape: (batch size, 1)\n",
    "  params: list of parameters (tf.Variables), [w1, b1, w2, b2]]\n",
    "  f_hidden: activation function for the hidden layer\n",
    "  f_out: activation function for the output layer\n",
    "  step_size: gradient descent step size parameter\n",
    "\n",
    "  returns: the loss\n",
    "  '''\n",
    "  with tf.GradientTape as tape:\n",
    "    yhat = nn_2layers(x, params, f_hidden, f_out)\n",
    "    loss = mse(y, yhat)\n",
    "  grads = tape.gradient(loss, params)\n",
    "  for var, grad in zip(params, grads):\n",
    "     var.assign(var - step_size * grad)\n",
    "  return loss"
   ]
  },
  {
   "cell_type": "markdown",
   "metadata": {
    "id": "MjP5hIyzr7kU"
   },
   "source": [
    "Finally, let's put everything together to write a function that trains a neural net via gradient descent. Follow the following steps:\n",
    "1. Generate random initial values for the parameters (check out `tf.random.uniform` and pick reasonable bounds)\n",
    "2. Make `tf.Variable` values with these initial values\n",
    "3. Use a loop to call your `grad_step` function repeatedly and save the loss values in a list as you go so you can return it at the end\n",
    "\n",
    "We will assume that the input and targets are both 1-d, so the only thing we need to specify to know what shapes to use for the parameters is the number of units in the hidden layer."
   ]
  },
  {
   "cell_type": "code",
   "execution_count": 41,
   "metadata": {
    "id": "ShUMw8_8syFo"
   },
   "outputs": [],
   "source": [
    "from tqdm.notebook import tqdm\n",
    "\n",
    "def nn_grad_desc(x, y, n_hidden, f_hidden, f_out, step_size, n_iters):\n",
    "  '''\n",
    "  fit a two-layer neural net via gradient descent\n",
    "  '''\n",
    "  losses = []\n",
    "  w1 = tf.random.uniform((1, n_hidden), minval=-1, maxval=1)\n",
    "  b1 = tf.random.uniform((n_hidden,), minval=-1, maxval=1)\n",
    "\n",
    "  w2 = tf.random.uniform((n_hidden, 1), minval=-1, maxval=1)\n",
    "  b2 = tf.random.uniform((1,), minval=-1, maxval=1)\n",
    "  params = [tf.Variable(p) for p in [w1, b1, w2, b2]]\n",
    "  \n",
    "  for i in tqdm(range(n_iters)):\n",
    "    loss = grad_step(x, y, params, f_hidden, f_out, step_size)\n",
    "    losses.append(loss)\n",
    "    \n",
    "    \n",
    "  return losses, params"
   ]
  },
  {
   "cell_type": "markdown",
   "metadata": {
    "id": "zRZC3tBj0snH"
   },
   "source": [
    "Now put all of your hard work to use! Call your function to fit the neural net and then plot your neural nets predictions against the data.\n",
    "\n",
    "Some notes:\n",
    "- Use the `tf.linspace` function to get a set of evenly spaced values to predict on for plotting\n",
    "- Resuse your `nn_2layers` function to make predictions using the fitted parameters"
   ]
  },
  {
   "cell_type": "code",
   "execution_count": 42,
   "metadata": {
    "id": "cvLM6zYn1RVM"
   },
   "outputs": [
    {
     "data": {
      "application/vnd.jupyter.widget-view+json": {
       "model_id": "38d71a2a22b04d388400b3de728e1591",
       "version_major": 2,
       "version_minor": 0
      },
      "text/plain": [
       "HBox(children=(FloatProgress(value=0.0, max=1000.0), HTML(value='')))"
      ]
     },
     "metadata": {},
     "output_type": "display_data"
    },
    {
     "name": "stdout",
     "output_type": "stream",
     "text": [
      "\n"
     ]
    },
    {
     "ename": "AttributeError",
     "evalue": "__enter__",
     "output_type": "error",
     "traceback": [
      "\u001b[0;31m---------------------------------------------------------------------------\u001b[0m",
      "\u001b[0;31mAttributeError\u001b[0m                            Traceback (most recent call last)",
      "\u001b[0;32m<ipython-input-42-61002becd02b>\u001b[0m in \u001b[0;36m<module>\u001b[0;34m\u001b[0m\n\u001b[0;32m----> 1\u001b[0;31m losses, vars = nn_grad_desc(\n\u001b[0m\u001b[1;32m      2\u001b[0m     \u001b[0mx\u001b[0m\u001b[0;34m,\u001b[0m \u001b[0my\u001b[0m\u001b[0;34m,\u001b[0m \u001b[0mn_hidden\u001b[0m \u001b[0;34m=\u001b[0m \u001b[0;36m8\u001b[0m\u001b[0;34m,\u001b[0m \u001b[0mf_hidden\u001b[0m \u001b[0;34m=\u001b[0m \u001b[0mtf\u001b[0m\u001b[0;34m.\u001b[0m\u001b[0mnn\u001b[0m\u001b[0;34m.\u001b[0m\u001b[0mtanh\u001b[0m\u001b[0;34m,\u001b[0m \u001b[0mf_out\u001b[0m \u001b[0;34m=\u001b[0m \u001b[0mlinear\u001b[0m\u001b[0;34m,\u001b[0m\u001b[0;34m\u001b[0m\u001b[0;34m\u001b[0m\u001b[0m\n\u001b[1;32m      3\u001b[0m     step_size = 0.1, n_iters = 1000)\n\u001b[1;32m      4\u001b[0m \u001b[0;34m\u001b[0m\u001b[0m\n\u001b[1;32m      5\u001b[0m \u001b[0;34m\u001b[0m\u001b[0m\n",
      "\u001b[0;32m<ipython-input-41-b2e1b36f246b>\u001b[0m in \u001b[0;36mnn_grad_desc\u001b[0;34m(x, y, n_hidden, f_hidden, f_out, step_size, n_iters)\u001b[0m\n\u001b[1;32m     14\u001b[0m \u001b[0;34m\u001b[0m\u001b[0m\n\u001b[1;32m     15\u001b[0m   \u001b[0;32mfor\u001b[0m \u001b[0mi\u001b[0m \u001b[0;32min\u001b[0m \u001b[0mtqdm\u001b[0m\u001b[0;34m(\u001b[0m\u001b[0mrange\u001b[0m\u001b[0;34m(\u001b[0m\u001b[0mn_iters\u001b[0m\u001b[0;34m)\u001b[0m\u001b[0;34m)\u001b[0m\u001b[0;34m:\u001b[0m\u001b[0;34m\u001b[0m\u001b[0;34m\u001b[0m\u001b[0m\n\u001b[0;32m---> 16\u001b[0;31m     \u001b[0mloss\u001b[0m \u001b[0;34m=\u001b[0m \u001b[0mgrad_step\u001b[0m\u001b[0;34m(\u001b[0m\u001b[0mx\u001b[0m\u001b[0;34m,\u001b[0m \u001b[0my\u001b[0m\u001b[0;34m,\u001b[0m \u001b[0mparams\u001b[0m\u001b[0;34m,\u001b[0m \u001b[0mf_hidden\u001b[0m\u001b[0;34m,\u001b[0m \u001b[0mf_out\u001b[0m\u001b[0;34m,\u001b[0m \u001b[0mstep_size\u001b[0m\u001b[0;34m)\u001b[0m\u001b[0;34m\u001b[0m\u001b[0;34m\u001b[0m\u001b[0m\n\u001b[0m\u001b[1;32m     17\u001b[0m     \u001b[0mlosses\u001b[0m\u001b[0;34m.\u001b[0m\u001b[0mappend\u001b[0m\u001b[0;34m(\u001b[0m\u001b[0mloss\u001b[0m\u001b[0;34m)\u001b[0m\u001b[0;34m\u001b[0m\u001b[0;34m\u001b[0m\u001b[0m\n\u001b[1;32m     18\u001b[0m \u001b[0;34m\u001b[0m\u001b[0m\n",
      "\u001b[0;32m<ipython-input-39-433adec707a5>\u001b[0m in \u001b[0;36mgrad_step\u001b[0;34m(x, y, params, f_hidden, f_out, step_size)\u001b[0m\n\u001b[1;32m     12\u001b[0m   \u001b[0mreturns\u001b[0m\u001b[0;34m:\u001b[0m \u001b[0mthe\u001b[0m \u001b[0mloss\u001b[0m\u001b[0;34m\u001b[0m\u001b[0;34m\u001b[0m\u001b[0m\n\u001b[1;32m     13\u001b[0m   '''\n\u001b[0;32m---> 14\u001b[0;31m   \u001b[0;32mwith\u001b[0m \u001b[0mtf\u001b[0m\u001b[0;34m.\u001b[0m\u001b[0mGradientTape\u001b[0m \u001b[0;32mas\u001b[0m \u001b[0mtape\u001b[0m\u001b[0;34m:\u001b[0m\u001b[0;34m\u001b[0m\u001b[0;34m\u001b[0m\u001b[0m\n\u001b[0m\u001b[1;32m     15\u001b[0m     \u001b[0myhat\u001b[0m \u001b[0;34m=\u001b[0m \u001b[0mnn_2layers\u001b[0m\u001b[0;34m(\u001b[0m\u001b[0mx\u001b[0m\u001b[0;34m,\u001b[0m \u001b[0mparams\u001b[0m\u001b[0;34m,\u001b[0m \u001b[0mf_hidden\u001b[0m\u001b[0;34m,\u001b[0m \u001b[0mf_out\u001b[0m\u001b[0;34m)\u001b[0m\u001b[0;34m\u001b[0m\u001b[0;34m\u001b[0m\u001b[0m\n\u001b[1;32m     16\u001b[0m     \u001b[0mloss\u001b[0m \u001b[0;34m=\u001b[0m \u001b[0mmse\u001b[0m\u001b[0;34m(\u001b[0m\u001b[0my\u001b[0m\u001b[0;34m,\u001b[0m \u001b[0myhat\u001b[0m\u001b[0;34m)\u001b[0m\u001b[0;34m\u001b[0m\u001b[0;34m\u001b[0m\u001b[0m\n",
      "\u001b[0;31mAttributeError\u001b[0m: __enter__"
     ]
    }
   ],
   "source": [
    "losses, vars = nn_grad_desc(\n",
    "    x, y, n_hidden = 8, f_hidden = tf.nn.tanh, f_out = linear, \n",
    "    step_size = 0.1, n_iters = 1000)\n",
    "\n",
    "\n",
    "plt.plot(losses)\n",
    "plt.show()\n",
    "\n",
    "x_grid = tf.linspace(x.min(), x.max(), 200)[:, tf.newaxis]\n",
    "yhat = nn_2layers(x_grid, vars, tf.nn.tanh, linear)\n",
    "plt.scatter(x, y, s=10)\n",
    "plt.plot([], [])\n",
    "plt.plot(x_grid, yhat)\n",
    "plt.show()"
   ]
  },
  {
   "cell_type": "code",
   "execution_count": 46,
   "metadata": {},
   "outputs": [
    {
     "name": "stdout",
     "output_type": "stream",
     "text": [
      "Model: \"sequential\"\n",
      "_________________________________________________________________\n",
      "Layer (type)                 Output Shape              Param #   \n",
      "=================================================================\n",
      "dense (Dense)                (None, 8)                 16        \n",
      "_________________________________________________________________\n",
      "dense_1 (Dense)              (None, 1)                 9         \n",
      "=================================================================\n",
      "Total params: 25\n",
      "Trainable params: 25\n",
      "Non-trainable params: 0\n",
      "_________________________________________________________________\n"
     ]
    },
    {
     "ename": "AttributeError",
     "evalue": "'ResourceVariable' object has no attribute 'min'",
     "output_type": "error",
     "traceback": [
      "\u001b[0;31m---------------------------------------------------------------------------\u001b[0m",
      "\u001b[0;31mAttributeError\u001b[0m                            Traceback (most recent call last)",
      "\u001b[0;32m<ipython-input-46-fa98397c77c5>\u001b[0m in \u001b[0;36m<module>\u001b[0;34m\u001b[0m\n\u001b[1;32m     13\u001b[0m \u001b[0mmodel\u001b[0m\u001b[0;34m.\u001b[0m\u001b[0mcompile\u001b[0m\u001b[0;34m(\u001b[0m\u001b[0mopt\u001b[0m\u001b[0;34m,\u001b[0m \u001b[0mloss\u001b[0m\u001b[0;34m)\u001b[0m\u001b[0;34m\u001b[0m\u001b[0;34m\u001b[0m\u001b[0m\n\u001b[1;32m     14\u001b[0m \u001b[0;34m\u001b[0m\u001b[0m\n\u001b[0;32m---> 15\u001b[0;31m \u001b[0mx_grid\u001b[0m \u001b[0;34m=\u001b[0m \u001b[0mtf\u001b[0m\u001b[0;34m.\u001b[0m\u001b[0mlinspace\u001b[0m\u001b[0;34m(\u001b[0m\u001b[0mx\u001b[0m\u001b[0;34m.\u001b[0m\u001b[0mmin\u001b[0m\u001b[0;34m(\u001b[0m\u001b[0;34m)\u001b[0m\u001b[0;34m,\u001b[0m \u001b[0mx\u001b[0m\u001b[0;34m.\u001b[0m\u001b[0mmax\u001b[0m\u001b[0;34m(\u001b[0m\u001b[0;34m)\u001b[0m\u001b[0;34m,\u001b[0m \u001b[0;36m200\u001b[0m\u001b[0;34m)\u001b[0m\u001b[0;34m[\u001b[0m\u001b[0;34m:\u001b[0m\u001b[0;34m,\u001b[0m \u001b[0mtf\u001b[0m\u001b[0;34m.\u001b[0m\u001b[0mnewaxis\u001b[0m\u001b[0;34m]\u001b[0m\u001b[0;34m\u001b[0m\u001b[0;34m\u001b[0m\u001b[0m\n\u001b[0m\u001b[1;32m     16\u001b[0m \u001b[0mresults\u001b[0m \u001b[0;34m=\u001b[0m \u001b[0mmodel\u001b[0m\u001b[0;34m.\u001b[0m\u001b[0mfit\u001b[0m\u001b[0;34m(\u001b[0m\u001b[0mx\u001b[0m\u001b[0;34m,\u001b[0m \u001b[0my\u001b[0m\u001b[0;34m,\u001b[0m \u001b[0mepochs\u001b[0m\u001b[0;34m=\u001b[0m\u001b[0;36m10000\u001b[0m\u001b[0;34m,\u001b[0m \u001b[0mbatch_size\u001b[0m\u001b[0;34m=\u001b[0m\u001b[0mx\u001b[0m\u001b[0;34m.\u001b[0m\u001b[0mshape\u001b[0m\u001b[0;34m[\u001b[0m\u001b[0;36m0\u001b[0m\u001b[0;34m]\u001b[0m\u001b[0;34m,\u001b[0m \u001b[0mverbose\u001b[0m\u001b[0;34m=\u001b[0m\u001b[0;36m0\u001b[0m\u001b[0;34m)\u001b[0m\u001b[0;34m\u001b[0m\u001b[0;34m\u001b[0m\u001b[0m\n\u001b[1;32m     17\u001b[0m \u001b[0myhat\u001b[0m \u001b[0;34m=\u001b[0m \u001b[0mmodel\u001b[0m\u001b[0;34m(\u001b[0m\u001b[0mx_grid\u001b[0m\u001b[0;34m)\u001b[0m\u001b[0;34m\u001b[0m\u001b[0;34m\u001b[0m\u001b[0m\n",
      "\u001b[0;31mAttributeError\u001b[0m: 'ResourceVariable' object has no attribute 'min'"
     ]
    }
   ],
   "source": [
    "from tensorflow import keras as tfk\n",
    "\n",
    "model = tfk.Sequential([\n",
    "  tfk.layers.InputLayer((1,)),\n",
    "  tfk.layers.Dense(8, activation=tf.nn.tanh),\n",
    "  tfk.layers.Dense(1, activation=None)\n",
    "])\n",
    "\n",
    "model.summary()\n",
    "\n",
    "loss = tfk.losses.MeanSquaredError()\n",
    "opt = tfk.optimizers.Adam()\n",
    "model.compile(opt, loss)\n",
    "\n",
    "x_grid = tf.linspace(x.min(), x.max(), 200)[:, tf.newaxis]\n",
    "results = model.fit(x, y, epochs=10000, batch_size=x.shape[0], verbose=0)\n",
    "yhat = model(x_grid)\n",
    "\n",
    "plt.scatter(x, y, s=10)\n",
    "plt.plot([], [])\n",
    "plt.plot(x_grid, yhat)\n",
    "plt.show()"
   ]
  }
 ],
 "metadata": {
  "accelerator": "GPU",
  "colab": {
   "collapsed_sections": [],
   "name": "tf-and-keras.ipynb",
   "provenance": []
  },
  "kernelspec": {
   "display_name": "Python 3",
   "language": "python",
   "name": "python3"
  },
  "language_info": {
   "codemirror_mode": {
    "name": "ipython",
    "version": 3
   },
   "file_extension": ".py",
   "mimetype": "text/x-python",
   "name": "python",
   "nbconvert_exporter": "python",
   "pygments_lexer": "ipython3",
   "version": "3.8.3"
  }
 },
 "nbformat": 4,
 "nbformat_minor": 1
}

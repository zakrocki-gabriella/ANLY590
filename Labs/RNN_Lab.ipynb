{
 "cells": [
  {
   "cell_type": "code",
   "execution_count": 2,
   "metadata": {
    "id": "XOkBF0K6P6MC"
   },
   "outputs": [
    {
     "ename": "ModuleNotFoundError",
     "evalue": "No module named 'google.colab'",
     "output_type": "error",
     "traceback": [
      "\u001b[0;31m---------------------------------------------------------------------------\u001b[0m",
      "\u001b[0;31mModuleNotFoundError\u001b[0m                       Traceback (most recent call last)",
      "\u001b[0;32m<ipython-input-2-7b2c406e6d5f>\u001b[0m in \u001b[0;36m<module>\u001b[0;34m\u001b[0m\n\u001b[1;32m      5\u001b[0m \u001b[0;34m\u001b[0m\u001b[0m\n\u001b[1;32m      6\u001b[0m \u001b[0;34m\u001b[0m\u001b[0m\n\u001b[0;32m----> 7\u001b[0;31m \u001b[0;32mfrom\u001b[0m \u001b[0mgoogle\u001b[0m\u001b[0;34m.\u001b[0m\u001b[0mcolab\u001b[0m \u001b[0;32mimport\u001b[0m \u001b[0mdrive\u001b[0m\u001b[0;34m\u001b[0m\u001b[0;34m\u001b[0m\u001b[0m\n\u001b[0m\u001b[1;32m      8\u001b[0m \u001b[0;32mimport\u001b[0m \u001b[0mnumpy\u001b[0m \u001b[0;32mas\u001b[0m \u001b[0mnp\u001b[0m\u001b[0;34m\u001b[0m\u001b[0;34m\u001b[0m\u001b[0m\n\u001b[1;32m      9\u001b[0m \u001b[0;32mimport\u001b[0m \u001b[0mpandas\u001b[0m \u001b[0;32mas\u001b[0m \u001b[0mpd\u001b[0m\u001b[0;34m\u001b[0m\u001b[0;34m\u001b[0m\u001b[0m\n",
      "\u001b[0;31mModuleNotFoundError\u001b[0m: No module named 'google.colab'"
     ]
    }
   ],
   "source": [
    "import tensorflow as tf\n",
    "import tensorflow.keras as tfk\n",
    "import tensorflow.keras.layers as tfkl\n",
    "from tensorflow.keras.models import Sequential\n",
    "\n",
    "\n",
    "from google.colab import drive\n",
    "import numpy as np\n",
    "import pandas as pd"
   ]
  },
  {
   "cell_type": "markdown",
   "metadata": {
    "id": "KdCU982WwzFo"
   },
   "source": [
    "In this example, we're going to train a [CharRNN](http://karpathy.github.io/2015/05/21/rnn-effectiveness/) on a body of Shakespearian text. Ultimtely, this is an unsuperived learning task. But similar to our previous explorations in unsupervised DL, we will use an unlabeled dataset and create many samples of labeled data that we can use with our familiar supervised loss functions. The result will be a model that has learned the statistical properties of the input text, and can then be considered a \"generative\" model of language because we can use it to generate synthetic passages of Shakespeare.  "
   ]
  },
  {
   "cell_type": "code",
   "execution_count": 3,
   "metadata": {
    "id": "dX7qrncTRKN0"
   },
   "outputs": [
    {
     "ename": "NameError",
     "evalue": "name 'drive' is not defined",
     "output_type": "error",
     "traceback": [
      "\u001b[0;31m---------------------------------------------------------------------------\u001b[0m",
      "\u001b[0;31mNameError\u001b[0m                                 Traceback (most recent call last)",
      "\u001b[0;32m<ipython-input-3-8d06f7531935>\u001b[0m in \u001b[0;36m<module>\u001b[0;34m\u001b[0m\n\u001b[0;32m----> 1\u001b[0;31m \u001b[0mdrive\u001b[0m\u001b[0;34m.\u001b[0m\u001b[0mmount\u001b[0m\u001b[0;34m(\u001b[0m\u001b[0;34m'/content/gdrive/'\u001b[0m\u001b[0;34m)\u001b[0m\u001b[0;34m\u001b[0m\u001b[0;34m\u001b[0m\u001b[0m\n\u001b[0m",
      "\u001b[0;31mNameError\u001b[0m: name 'drive' is not defined"
     ]
    }
   ],
   "source": [
    "drive.mount('/content/gdrive/')"
   ]
  },
  {
   "cell_type": "code",
   "execution_count": 3,
   "metadata": {
    "id": "6iek9QSARq1L"
   },
   "outputs": [],
   "source": [
    "file_path = \"/content/gdrive/My Drive/anly590-datasets/shakespeare.txt\"\n",
    "\n",
    "with open(file_path,\"r\") as f:\n",
    "  text = f.read()"
   ]
  },
  {
   "cell_type": "markdown",
   "metadata": {
    "id": "ie2LtLF4Vv6A"
   },
   "source": [
    "We've loaded our Shakespeare text, let's take a look at a random snippet."
   ]
  },
  {
   "cell_type": "code",
   "execution_count": 4,
   "metadata": {
    "colab": {
     "base_uri": "https://localhost:8080/"
    },
    "id": "LVFmTUsGWePe",
    "outputId": "b03893e8-f3c8-4d8e-e8b0-9e61699f440f"
   },
   "outputs": [
    {
     "name": "stdout",
     "output_type": "stream",
     "text": [
      " lies i' the second chamber?\n",
      "  LADY MACBETH. Donalbain.\n",
      "  MACBETH. This is a sorry sight.           [Looks on his hands.\n",
      "  LADY MACBETH. A foolish thought, to say a sorry sight.\n",
      "  MACBETH. There's one did laugh in 's sleep, and one cried,\n",
      "      \"Murther!\"\n",
      "    That they did wake each other. I stood and heard them,\n",
      "    But they did say their prayers and address'd them\n",
      "    Again to sleep.\n",
      "  LADY MACB\n"
     ]
    }
   ],
   "source": [
    "print(text[31600:32000])"
   ]
  },
  {
   "cell_type": "markdown",
   "metadata": {
    "id": "qLXQHFUsW0xu"
   },
   "source": [
    "We need to convert our text into numeric arrays, the next several blocks accomplish this.\n",
    "\n",
    "First, we'll create a mapping between characters and their numeric index. We'll also create the reverse mapping, which is useful."
   ]
  },
  {
   "cell_type": "code",
   "execution_count": 5,
   "metadata": {
    "colab": {
     "base_uri": "https://localhost:8080/"
    },
    "id": "UkvcQEUASXQG",
    "outputId": "bd84d04c-0e0a-48a1-e5dc-999c683a80c1"
   },
   "outputs": [
    {
     "name": "stdout",
     "output_type": "stream",
     "text": [
      "total chars: 75\n"
     ]
    }
   ],
   "source": [
    "chars = sorted(list(set(text)))\n",
    "print('total chars:', len(chars))\n",
    "char_indices = dict((c, i) for i, c in enumerate(chars))\n",
    "indices_char = dict((i, c) for i, c in enumerate(chars))"
   ]
  },
  {
   "cell_type": "markdown",
   "metadata": {
    "id": "XexyPZdAXC0p"
   },
   "source": [
    "Next, we'll create a training set of sub-sequences. Remember, we're trying to train a model to be able to predict the next chracter if it is given several characters of a subsequence. So we will create training pairs where each X is a fixed-length subsequences and each Y is the corresponding next letter in the text."
   ]
  },
  {
   "cell_type": "code",
   "execution_count": 6,
   "metadata": {
    "colab": {
     "base_uri": "https://localhost:8080/"
    },
    "id": "ej4RdC76S7RB",
    "outputId": "83f06f97-9ec9-4b84-ac86-5ea7fe4deee8"
   },
   "outputs": [
    {
     "name": "stdout",
     "output_type": "stream",
     "text": [
      "nb sequences: 38700\n"
     ]
    }
   ],
   "source": [
    "maxlen = 40\n",
    "step = 3\n",
    "sub_sequences = []\n",
    "next_chars = []\n",
    "for i in range(0, len(text) - maxlen, step):\n",
    "    sub_sequences.append(text[i: i + maxlen])\n",
    "    next_chars.append(text[i + maxlen])\n",
    "print('nb sequences:', len(sub_sequences))"
   ]
  },
  {
   "cell_type": "code",
   "execution_count": 7,
   "metadata": {
    "colab": {
     "base_uri": "https://localhost:8080/"
    },
    "id": "QVHru3qPWX8Z",
    "outputId": "00758db3-ed36-4be3-df25-0fa7c46d5fcd"
   },
   "outputs": [
    {
     "name": "stdout",
     "output_type": "stream",
     "text": [
      "(Sequence):\n",
      " and other Apparitions\n",
      "  Lords, Gentleme\n",
      "\n",
      "(Target Character): \n",
      "n\n"
     ]
    }
   ],
   "source": [
    "k=300\n",
    "print(\"(Sequence):\\n\" + sub_sequences[k])\n",
    "print(\"\\n(Target Character): \\n\" + next_chars[k])"
   ]
  },
  {
   "cell_type": "markdown",
   "metadata": {
    "id": "vD2QxlOAW8zQ"
   },
   "source": [
    "Next we'll create one-hot vectors for our sub-sequences. The tensor we create here will be shaped as (num_sequences x sequence_length x alphabet_size)."
   ]
  },
  {
   "cell_type": "code",
   "execution_count": 8,
   "metadata": {
    "id": "SfQRBmiNWehk"
   },
   "outputs": [],
   "source": [
    "X = np.zeros((len(sub_sequences), maxlen, len(chars)), dtype=np.uint8 )\n",
    "Y = np.zeros((len(sub_sequences), len(chars)), dtype=np.uint8)\n",
    "for i, seq in enumerate(sub_sequences):\n",
    "    for t, char in enumerate(seq):\n",
    "        X[i, t, char_indices[char]] = 1\n",
    "        Y[i, char_indices[next_chars[i]]] = 1"
   ]
  },
  {
   "cell_type": "code",
   "execution_count": 12,
   "metadata": {
    "colab": {
     "base_uri": "https://localhost:8080/"
    },
    "id": "U4qxjsGDXLtb",
    "outputId": "79472792-5f85-4e21-b6bb-41481cb532a6"
   },
   "outputs": [
    {
     "data": {
      "text/plain": [
       "array([0, 0, 0, 0, 0, 0, 0, 0, 0, 0, 0, 0, 0, 0, 0, 0, 0, 0, 0, 0, 0, 0,\n",
       "       0, 0, 0, 0, 0, 0, 0, 0, 0, 0, 0, 0, 0, 0, 0, 0, 0, 0, 0, 0, 0, 0,\n",
       "       0, 0, 0, 0, 0, 0, 0, 0, 0, 0, 0, 0, 0, 0, 0, 0, 0, 0, 0, 0, 0, 0,\n",
       "       0, 0, 0, 0, 0, 0, 0, 0, 1], dtype=uint8)"
      ]
     },
     "execution_count": 12,
     "metadata": {
      "tags": []
     },
     "output_type": "execute_result"
    }
   ],
   "source": [
    "X[0,0,:]"
   ]
  },
  {
   "cell_type": "code",
   "execution_count": null,
   "metadata": {
    "colab": {
     "base_uri": "https://localhost:8080/",
     "height": 86
    },
    "id": "423pgyKqXnE_",
    "outputId": "38e5fd04-3637-4463-ab2d-55ffb340830a"
   },
   "outputs": [
    {
     "data": {
      "text/plain": [
       "array([0, 0, 0, 0, 0, 0, 0, 0, 0, 0, 0, 0, 0, 0, 0, 0, 0, 0, 0, 0, 0, 0,\n",
       "       0, 0, 0, 0, 0, 0, 0, 0, 0, 0, 0, 0, 0, 0, 0, 0, 0, 0, 0, 0, 0, 0,\n",
       "       0, 0, 0, 0, 0, 0, 0, 0, 0, 0, 0, 0, 0, 0, 0, 0, 1, 0, 0, 0, 0, 0,\n",
       "       0, 0, 0, 0, 0, 0, 0, 0, 0], dtype=uint8)"
      ]
     },
     "execution_count": 54,
     "metadata": {
      "tags": []
     },
     "output_type": "execute_result"
    }
   ],
   "source": [
    "Y[0]"
   ]
  },
  {
   "cell_type": "markdown",
   "metadata": {
    "id": "2dJrr1caYVnI"
   },
   "source": [
    "Our RNN model will be quite simple."
   ]
  },
  {
   "cell_type": "code",
   "execution_count": 42,
   "metadata": {
    "id": "95NSRVMpYGAT"
   },
   "outputs": [],
   "source": [
    "char_rnn = Sequential()\n",
    "char_rnn.add(tfkl.LSTM(128, input_shape=(maxlen, len(chars))))\n",
    "char_rnn.add(tfkl.Dense(len(chars),activation=\"softmax\"))"
   ]
  },
  {
   "cell_type": "code",
   "execution_count": 40,
   "metadata": {
    "id": "t4xdUMP_Y6iu"
   },
   "outputs": [],
   "source": [
    "char_rnn.compile(loss='categorical_crossentropy', optimizer=tfk.optimizers.RMSprop(lr=0.01))"
   ]
  },
  {
   "cell_type": "code",
   "execution_count": null,
   "metadata": {
    "id": "KGDTEd0GZFNk"
   },
   "outputs": [],
   "source": [
    "char_rnn.fit(X,Y, epochs=20, batch_size=1024)"
   ]
  },
  {
   "cell_type": "markdown",
   "metadata": {
    "id": "6hhAWPgRX96V"
   },
   "source": [
    "Once we have a trained model, we can simulate new text by making predictions about the next character and then drawing characters in proportion to the predicted probabilities. And then simple repeat that process over and over, each time drawing the next character."
   ]
  },
  {
   "cell_type": "code",
   "execution_count": 21,
   "metadata": {
    "id": "IMpJwYSsZSoc"
   },
   "outputs": [],
   "source": [
    "def draw_char(probs):\n",
    "    probs = np.asarray(probs).astype('float64')\n",
    "    if sum(probs) != 1.0:\n",
    "      probs = probs / np.sum(probs)\n",
    "    draw = np.random.choice(range(len(probs)) , p=probs)\n",
    "    return draw\n",
    "\n",
    "def sample_text(model, sample_length=100):\n",
    "    start = np.random.randint(0, len(text) - maxlen - 1)\n",
    "    sequence = text[start: start + maxlen]\n",
    "  \n",
    "    x_preds = np.zeros((sample_length, maxlen, len(chars)))\n",
    "    for i in range(sample_length):\n",
    "        for t, char in enumerate(sequence[-maxlen:]):\n",
    "            x_preds[i, t, char_indices[char]] = 1.\n",
    "\n",
    "        preds = model.predict(np.expand_dims(x_preds[i,:,:], axis=0), verbose=0)[0]\n",
    "        next_index = draw_char(preds)\n",
    "        next_char = indices_char[next_index]\n",
    "\n",
    "        sequence += next_char\n",
    "    return sequence"
   ]
  },
  {
   "cell_type": "code",
   "execution_count": 35,
   "metadata": {
    "id": "jHD5iDlHayL7"
   },
   "outputs": [],
   "source": [
    "sim = sample_text(char_rnn,sample_length=500) "
   ]
  },
  {
   "cell_type": "code",
   "execution_count": 36,
   "metadata": {
    "colab": {
     "base_uri": "https://localhost:8080/"
    },
    "id": "bOP0ljRtOEmp",
    "outputId": "6cf5352e-bf0f-49f0-d254-f49732856443"
   },
   "outputs": [
    {
     "name": "stdout",
     "output_type": "stream",
     "text": [
      "r, not yet at rest? The King's abed. \n",
      "  MACBETH. We have expence, lives\n",
      "    Now wish this inthen of sears we be look's may.\n",
      "    Though busilest haght he when we are here!\n",
      "    Most have you, gove will fain'd me befieds\n",
      "    Whos net the digg'd. Sower soursengess;\n",
      "    Fill and time up but fell promiok him ourt,\n",
      "    Our many our art you's breading on that,\n",
      "    Scance of my well. Infight, Macbeth, and quest ligght twoots\n",
      "    Timemen's noble will put an Ourst feen'd\n",
      "    Do father which you well and trumfer\n",
      "    Us mouther by in him sow. I sa\n"
     ]
    }
   ],
   "source": [
    "print(sim)"
   ]
  },
  {
   "cell_type": "markdown",
   "metadata": {
    "id": "Aj4kXg4BTbOc"
   },
   "source": [
    "Notice that we can do pretty well to learn the typical statistical patterns of this text and then simulate new text that appears to be very similar to legitimate Shakespeare. \n",
    "\n",
    "But just a caution - we can also do pretty well with a much simpler method (Markov model): http://nbviewer.jupyter.org/gist/yoavg/d76121dfde2618422139\n",
    "\n",
    "So the lesson is to try something simple before jumping right in to deep learning."
   ]
  },
  {
   "cell_type": "markdown",
   "metadata": {
    "id": "n5IE5xprp3RS"
   },
   "source": [
    "## Exercise"
   ]
  },
  {
   "cell_type": "markdown",
   "metadata": {
    "id": "HoN_s6nQsDdn"
   },
   "source": [
    "In this example, we're going to use an RNN for sequence classification. The task we'll set up is to generate a training set of randomized strings, and train our model to detect whether a string contains any vowels."
   ]
  },
  {
   "cell_type": "markdown",
   "metadata": {
    "id": "Isy5RPDdsTYT"
   },
   "source": [
    "First, we'll create a training dataset of short randomized character sequences and the corresponding label of whether or not they contain at least one vowel."
   ]
  },
  {
   "cell_type": "code",
   "execution_count": null,
   "metadata": {
    "id": "hE6C-Xl6p5W7"
   },
   "outputs": [],
   "source": [
    "import string"
   ]
  },
  {
   "cell_type": "code",
   "execution_count": null,
   "metadata": {
    "id": "CI7QA2Ewp-ZJ"
   },
   "outputs": [],
   "source": [
    "def contains_vowels(sequence):\n",
    "  vowels = [\"a\", \"e\", \"i\", \"o\", \"u\"]\n",
    "  return any([vowel in list(sequence) for vowel in vowels])"
   ]
  },
  {
   "cell_type": "code",
   "execution_count": null,
   "metadata": {
    "colab": {
     "base_uri": "https://localhost:8080/"
    },
    "id": "oZ9cEhMrqtoG",
    "outputId": "17d2110a-4251-4ace-fe84-50bb30362d2e"
   },
   "outputs": [
    {
     "data": {
      "text/plain": [
       "True"
      ]
     },
     "execution_count": 34,
     "metadata": {
      "tags": []
     },
     "output_type": "execute_result"
    }
   ],
   "source": [
    "contains_vowels(\"gradient\")"
   ]
  },
  {
   "cell_type": "code",
   "execution_count": null,
   "metadata": {
    "id": "EwBEUPYwp9Z0"
   },
   "outputs": [],
   "source": [
    "sequences = []\n",
    "labels = []\n",
    "for i in range(1000):\n",
    " char_list = np.random.choice( list(string.ascii_lowercase), size = 5, replace=True)\n",
    " seq = \"\".join(char_list)\n",
    " sequences.append(seq)\n",
    " labels.append(int(contains_vowels(seq)))"
   ]
  },
  {
   "cell_type": "code",
   "execution_count": null,
   "metadata": {
    "id": "IkJXdy5krgHn"
   },
   "outputs": [],
   "source": [
    "df = pd.DataFrame({\"sequence\": sequences, \"label\":labels})"
   ]
  },
  {
   "cell_type": "code",
   "execution_count": null,
   "metadata": {
    "colab": {
     "base_uri": "https://localhost:8080/",
     "height": 206
    },
    "id": "ubAQf53Dr8zy",
    "outputId": "9ac91bda-3c6a-4e22-833a-44eb918e16d6"
   },
   "outputs": [
    {
     "data": {
      "text/html": [
       "<div>\n",
       "<style scoped>\n",
       "    .dataframe tbody tr th:only-of-type {\n",
       "        vertical-align: middle;\n",
       "    }\n",
       "\n",
       "    .dataframe tbody tr th {\n",
       "        vertical-align: top;\n",
       "    }\n",
       "\n",
       "    .dataframe thead th {\n",
       "        text-align: right;\n",
       "    }\n",
       "</style>\n",
       "<table border=\"1\" class=\"dataframe\">\n",
       "  <thead>\n",
       "    <tr style=\"text-align: right;\">\n",
       "      <th></th>\n",
       "      <th>sequence</th>\n",
       "      <th>label</th>\n",
       "    </tr>\n",
       "  </thead>\n",
       "  <tbody>\n",
       "    <tr>\n",
       "      <th>0</th>\n",
       "      <td>ytfis</td>\n",
       "      <td>1</td>\n",
       "    </tr>\n",
       "    <tr>\n",
       "      <th>1</th>\n",
       "      <td>fbjcs</td>\n",
       "      <td>0</td>\n",
       "    </tr>\n",
       "    <tr>\n",
       "      <th>2</th>\n",
       "      <td>vwcpm</td>\n",
       "      <td>0</td>\n",
       "    </tr>\n",
       "    <tr>\n",
       "      <th>3</th>\n",
       "      <td>bufat</td>\n",
       "      <td>1</td>\n",
       "    </tr>\n",
       "    <tr>\n",
       "      <th>4</th>\n",
       "      <td>bsioe</td>\n",
       "      <td>1</td>\n",
       "    </tr>\n",
       "  </tbody>\n",
       "</table>\n",
       "</div>"
      ],
      "text/plain": [
       "  sequence  label\n",
       "0    ytfis      1\n",
       "1    fbjcs      0\n",
       "2    vwcpm      0\n",
       "3    bufat      1\n",
       "4    bsioe      1"
      ]
     },
     "execution_count": 41,
     "metadata": {
      "tags": []
     },
     "output_type": "execute_result"
    }
   ],
   "source": [
    "df.head()"
   ]
  },
  {
   "cell_type": "markdown",
   "metadata": {
    "id": "2xkX8Xa8sfID"
   },
   "source": [
    "Next, set up and train an RNN (of any type) to solve this task. What preprocessing will you need to do first on the raw data in order to prepare it for the network?"
   ]
  },
  {
   "cell_type": "code",
   "execution_count": null,
   "metadata": {
    "id": "6M4Sj4XHr9hj"
   },
   "outputs": [],
   "source": [
    "# Data Preprocessing\n",
    "# your code here"
   ]
  },
  {
   "cell_type": "code",
   "execution_count": null,
   "metadata": {
    "id": "Og8gtSgHslED"
   },
   "outputs": [],
   "source": [
    "# Model setup and training\n",
    "# your code here"
   ]
  },
  {
   "cell_type": "code",
   "execution_count": null,
   "metadata": {
    "id": "lSLXwJvJszDu"
   },
   "outputs": [],
   "source": []
  }
 ],
 "metadata": {
  "accelerator": "GPU",
  "colab": {
   "collapsed_sections": [],
   "name": "RNN Lab.ipynb",
   "provenance": []
  },
  "kernelspec": {
   "display_name": "Python 3",
   "language": "python",
   "name": "python3"
  },
  "language_info": {
   "codemirror_mode": {
    "name": "ipython",
    "version": 3
   },
   "file_extension": ".py",
   "mimetype": "text/x-python",
   "name": "python",
   "nbconvert_exporter": "python",
   "pygments_lexer": "ipython3",
   "version": "3.8.3"
  }
 },
 "nbformat": 4,
 "nbformat_minor": 4
}

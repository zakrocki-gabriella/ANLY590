{
  "nbformat": 4,
  "nbformat_minor": 0,
  "metadata": {
    "colab": {
      "name": "Homework3_ANLY590",
      "provenance": [],
      "collapsed_sections": [],
      "toc_visible": true,
      "authorship_tag": "ABX9TyOwXDkW9ywtF7RO0uPNHX8k",
      "include_colab_link": true
    },
    "kernelspec": {
      "name": "python3",
      "display_name": "Python 3"
    },
    "widgets": {
      "application/vnd.jupyter.widget-state+json": {
        "ff040a5563a54ecbba9a07fa7186fd60": {
          "model_module": "@jupyter-widgets/controls",
          "model_name": "HBoxModel",
          "state": {
            "_view_name": "HBoxView",
            "_dom_classes": [],
            "_model_name": "HBoxModel",
            "_view_module": "@jupyter-widgets/controls",
            "_model_module_version": "1.5.0",
            "_view_count": null,
            "_view_module_version": "1.5.0",
            "box_style": "",
            "layout": "IPY_MODEL_de4ad68de79a4ff6ac44b520e70b3401",
            "_model_module": "@jupyter-widgets/controls",
            "children": [
              "IPY_MODEL_45d2487df586461a908e203dd087445a",
              "IPY_MODEL_b254cec4c45144b0a6736fcdbe3e5c29"
            ]
          }
        },
        "de4ad68de79a4ff6ac44b520e70b3401": {
          "model_module": "@jupyter-widgets/base",
          "model_name": "LayoutModel",
          "state": {
            "_view_name": "LayoutView",
            "grid_template_rows": null,
            "right": null,
            "justify_content": null,
            "_view_module": "@jupyter-widgets/base",
            "overflow": null,
            "_model_module_version": "1.2.0",
            "_view_count": null,
            "flex_flow": null,
            "width": null,
            "min_width": null,
            "border": null,
            "align_items": null,
            "bottom": null,
            "_model_module": "@jupyter-widgets/base",
            "top": null,
            "grid_column": null,
            "overflow_y": null,
            "overflow_x": null,
            "grid_auto_flow": null,
            "grid_area": null,
            "grid_template_columns": null,
            "flex": null,
            "_model_name": "LayoutModel",
            "justify_items": null,
            "grid_row": null,
            "max_height": null,
            "align_content": null,
            "visibility": null,
            "align_self": null,
            "height": null,
            "min_height": null,
            "padding": null,
            "grid_auto_rows": null,
            "grid_gap": null,
            "max_width": null,
            "order": null,
            "_view_module_version": "1.2.0",
            "grid_template_areas": null,
            "object_position": null,
            "object_fit": null,
            "grid_auto_columns": null,
            "margin": null,
            "display": null,
            "left": null
          }
        },
        "45d2487df586461a908e203dd087445a": {
          "model_module": "@jupyter-widgets/controls",
          "model_name": "FloatProgressModel",
          "state": {
            "_view_name": "ProgressView",
            "style": "IPY_MODEL_d7dd5e8a5cfe4abbbbb67ba57b9f2c30",
            "_dom_classes": [],
            "description": "Dl Completed...: 100%",
            "_model_name": "FloatProgressModel",
            "bar_style": "success",
            "max": 1,
            "_view_module": "@jupyter-widgets/controls",
            "_model_module_version": "1.5.0",
            "value": 1,
            "_view_count": null,
            "_view_module_version": "1.5.0",
            "orientation": "horizontal",
            "min": 0,
            "description_tooltip": null,
            "_model_module": "@jupyter-widgets/controls",
            "layout": "IPY_MODEL_cd0b0b83a9804f43a3211c670fde1638"
          }
        },
        "b254cec4c45144b0a6736fcdbe3e5c29": {
          "model_module": "@jupyter-widgets/controls",
          "model_name": "HTMLModel",
          "state": {
            "_view_name": "HTMLView",
            "style": "IPY_MODEL_654d3c37d3624dd99a5250eb4b52bf89",
            "_dom_classes": [],
            "description": "",
            "_model_name": "HTMLModel",
            "placeholder": "​",
            "_view_module": "@jupyter-widgets/controls",
            "_model_module_version": "1.5.0",
            "value": " 1/1 [00:08&lt;00:00,  8.92s/ url]",
            "_view_count": null,
            "_view_module_version": "1.5.0",
            "description_tooltip": null,
            "_model_module": "@jupyter-widgets/controls",
            "layout": "IPY_MODEL_54a847da9a444af6b12804210b2b49b2"
          }
        },
        "d7dd5e8a5cfe4abbbbb67ba57b9f2c30": {
          "model_module": "@jupyter-widgets/controls",
          "model_name": "ProgressStyleModel",
          "state": {
            "_view_name": "StyleView",
            "_model_name": "ProgressStyleModel",
            "description_width": "initial",
            "_view_module": "@jupyter-widgets/base",
            "_model_module_version": "1.5.0",
            "_view_count": null,
            "_view_module_version": "1.2.0",
            "bar_color": null,
            "_model_module": "@jupyter-widgets/controls"
          }
        },
        "cd0b0b83a9804f43a3211c670fde1638": {
          "model_module": "@jupyter-widgets/base",
          "model_name": "LayoutModel",
          "state": {
            "_view_name": "LayoutView",
            "grid_template_rows": null,
            "right": null,
            "justify_content": null,
            "_view_module": "@jupyter-widgets/base",
            "overflow": null,
            "_model_module_version": "1.2.0",
            "_view_count": null,
            "flex_flow": null,
            "width": null,
            "min_width": null,
            "border": null,
            "align_items": null,
            "bottom": null,
            "_model_module": "@jupyter-widgets/base",
            "top": null,
            "grid_column": null,
            "overflow_y": null,
            "overflow_x": null,
            "grid_auto_flow": null,
            "grid_area": null,
            "grid_template_columns": null,
            "flex": null,
            "_model_name": "LayoutModel",
            "justify_items": null,
            "grid_row": null,
            "max_height": null,
            "align_content": null,
            "visibility": null,
            "align_self": null,
            "height": null,
            "min_height": null,
            "padding": null,
            "grid_auto_rows": null,
            "grid_gap": null,
            "max_width": null,
            "order": null,
            "_view_module_version": "1.2.0",
            "grid_template_areas": null,
            "object_position": null,
            "object_fit": null,
            "grid_auto_columns": null,
            "margin": null,
            "display": null,
            "left": null
          }
        },
        "654d3c37d3624dd99a5250eb4b52bf89": {
          "model_module": "@jupyter-widgets/controls",
          "model_name": "DescriptionStyleModel",
          "state": {
            "_view_name": "StyleView",
            "_model_name": "DescriptionStyleModel",
            "description_width": "",
            "_view_module": "@jupyter-widgets/base",
            "_model_module_version": "1.5.0",
            "_view_count": null,
            "_view_module_version": "1.2.0",
            "_model_module": "@jupyter-widgets/controls"
          }
        },
        "54a847da9a444af6b12804210b2b49b2": {
          "model_module": "@jupyter-widgets/base",
          "model_name": "LayoutModel",
          "state": {
            "_view_name": "LayoutView",
            "grid_template_rows": null,
            "right": null,
            "justify_content": null,
            "_view_module": "@jupyter-widgets/base",
            "overflow": null,
            "_model_module_version": "1.2.0",
            "_view_count": null,
            "flex_flow": null,
            "width": null,
            "min_width": null,
            "border": null,
            "align_items": null,
            "bottom": null,
            "_model_module": "@jupyter-widgets/base",
            "top": null,
            "grid_column": null,
            "overflow_y": null,
            "overflow_x": null,
            "grid_auto_flow": null,
            "grid_area": null,
            "grid_template_columns": null,
            "flex": null,
            "_model_name": "LayoutModel",
            "justify_items": null,
            "grid_row": null,
            "max_height": null,
            "align_content": null,
            "visibility": null,
            "align_self": null,
            "height": null,
            "min_height": null,
            "padding": null,
            "grid_auto_rows": null,
            "grid_gap": null,
            "max_width": null,
            "order": null,
            "_view_module_version": "1.2.0",
            "grid_template_areas": null,
            "object_position": null,
            "object_fit": null,
            "grid_auto_columns": null,
            "margin": null,
            "display": null,
            "left": null
          }
        },
        "01e11230dc434975b5ac164832443689": {
          "model_module": "@jupyter-widgets/controls",
          "model_name": "HBoxModel",
          "state": {
            "_view_name": "HBoxView",
            "_dom_classes": [],
            "_model_name": "HBoxModel",
            "_view_module": "@jupyter-widgets/controls",
            "_model_module_version": "1.5.0",
            "_view_count": null,
            "_view_module_version": "1.5.0",
            "box_style": "",
            "layout": "IPY_MODEL_33eba275b632476cad47563f89d64d3f",
            "_model_module": "@jupyter-widgets/controls",
            "children": [
              "IPY_MODEL_4ce722f450a34e3ea0cefc422396774c",
              "IPY_MODEL_dc72312389cc4e25b2daa213eac6652a"
            ]
          }
        },
        "33eba275b632476cad47563f89d64d3f": {
          "model_module": "@jupyter-widgets/base",
          "model_name": "LayoutModel",
          "state": {
            "_view_name": "LayoutView",
            "grid_template_rows": null,
            "right": null,
            "justify_content": null,
            "_view_module": "@jupyter-widgets/base",
            "overflow": null,
            "_model_module_version": "1.2.0",
            "_view_count": null,
            "flex_flow": null,
            "width": null,
            "min_width": null,
            "border": null,
            "align_items": null,
            "bottom": null,
            "_model_module": "@jupyter-widgets/base",
            "top": null,
            "grid_column": null,
            "overflow_y": null,
            "overflow_x": null,
            "grid_auto_flow": null,
            "grid_area": null,
            "grid_template_columns": null,
            "flex": null,
            "_model_name": "LayoutModel",
            "justify_items": null,
            "grid_row": null,
            "max_height": null,
            "align_content": null,
            "visibility": null,
            "align_self": null,
            "height": null,
            "min_height": null,
            "padding": null,
            "grid_auto_rows": null,
            "grid_gap": null,
            "max_width": null,
            "order": null,
            "_view_module_version": "1.2.0",
            "grid_template_areas": null,
            "object_position": null,
            "object_fit": null,
            "grid_auto_columns": null,
            "margin": null,
            "display": null,
            "left": null
          }
        },
        "4ce722f450a34e3ea0cefc422396774c": {
          "model_module": "@jupyter-widgets/controls",
          "model_name": "FloatProgressModel",
          "state": {
            "_view_name": "ProgressView",
            "style": "IPY_MODEL_7b3eafe52fe946d394ba3780ff4387d6",
            "_dom_classes": [],
            "description": "Dl Size...: 100%",
            "_model_name": "FloatProgressModel",
            "bar_style": "success",
            "max": 1,
            "_view_module": "@jupyter-widgets/controls",
            "_model_module_version": "1.5.0",
            "value": 1,
            "_view_count": null,
            "_view_module_version": "1.5.0",
            "orientation": "horizontal",
            "min": 0,
            "description_tooltip": null,
            "_model_module": "@jupyter-widgets/controls",
            "layout": "IPY_MODEL_c5761e4a21624bfdbe8b561a7eb26696"
          }
        },
        "dc72312389cc4e25b2daa213eac6652a": {
          "model_module": "@jupyter-widgets/controls",
          "model_name": "HTMLModel",
          "state": {
            "_view_name": "HTMLView",
            "style": "IPY_MODEL_fa4b9d1f33864412a5723aea36fbd469",
            "_dom_classes": [],
            "description": "",
            "_model_name": "HTMLModel",
            "placeholder": "​",
            "_view_module": "@jupyter-widgets/controls",
            "_model_module_version": "1.5.0",
            "value": " 162/162 [00:08&lt;00:00, 18.23 MiB/s]",
            "_view_count": null,
            "_view_module_version": "1.5.0",
            "description_tooltip": null,
            "_model_module": "@jupyter-widgets/controls",
            "layout": "IPY_MODEL_8e011bbb73ab45a2bfa0d1b7292576dc"
          }
        },
        "7b3eafe52fe946d394ba3780ff4387d6": {
          "model_module": "@jupyter-widgets/controls",
          "model_name": "ProgressStyleModel",
          "state": {
            "_view_name": "StyleView",
            "_model_name": "ProgressStyleModel",
            "description_width": "initial",
            "_view_module": "@jupyter-widgets/base",
            "_model_module_version": "1.5.0",
            "_view_count": null,
            "_view_module_version": "1.2.0",
            "bar_color": null,
            "_model_module": "@jupyter-widgets/controls"
          }
        },
        "c5761e4a21624bfdbe8b561a7eb26696": {
          "model_module": "@jupyter-widgets/base",
          "model_name": "LayoutModel",
          "state": {
            "_view_name": "LayoutView",
            "grid_template_rows": null,
            "right": null,
            "justify_content": null,
            "_view_module": "@jupyter-widgets/base",
            "overflow": null,
            "_model_module_version": "1.2.0",
            "_view_count": null,
            "flex_flow": null,
            "width": null,
            "min_width": null,
            "border": null,
            "align_items": null,
            "bottom": null,
            "_model_module": "@jupyter-widgets/base",
            "top": null,
            "grid_column": null,
            "overflow_y": null,
            "overflow_x": null,
            "grid_auto_flow": null,
            "grid_area": null,
            "grid_template_columns": null,
            "flex": null,
            "_model_name": "LayoutModel",
            "justify_items": null,
            "grid_row": null,
            "max_height": null,
            "align_content": null,
            "visibility": null,
            "align_self": null,
            "height": null,
            "min_height": null,
            "padding": null,
            "grid_auto_rows": null,
            "grid_gap": null,
            "max_width": null,
            "order": null,
            "_view_module_version": "1.2.0",
            "grid_template_areas": null,
            "object_position": null,
            "object_fit": null,
            "grid_auto_columns": null,
            "margin": null,
            "display": null,
            "left": null
          }
        },
        "fa4b9d1f33864412a5723aea36fbd469": {
          "model_module": "@jupyter-widgets/controls",
          "model_name": "DescriptionStyleModel",
          "state": {
            "_view_name": "StyleView",
            "_model_name": "DescriptionStyleModel",
            "description_width": "",
            "_view_module": "@jupyter-widgets/base",
            "_model_module_version": "1.5.0",
            "_view_count": null,
            "_view_module_version": "1.2.0",
            "_model_module": "@jupyter-widgets/controls"
          }
        },
        "8e011bbb73ab45a2bfa0d1b7292576dc": {
          "model_module": "@jupyter-widgets/base",
          "model_name": "LayoutModel",
          "state": {
            "_view_name": "LayoutView",
            "grid_template_rows": null,
            "right": null,
            "justify_content": null,
            "_view_module": "@jupyter-widgets/base",
            "overflow": null,
            "_model_module_version": "1.2.0",
            "_view_count": null,
            "flex_flow": null,
            "width": null,
            "min_width": null,
            "border": null,
            "align_items": null,
            "bottom": null,
            "_model_module": "@jupyter-widgets/base",
            "top": null,
            "grid_column": null,
            "overflow_y": null,
            "overflow_x": null,
            "grid_auto_flow": null,
            "grid_area": null,
            "grid_template_columns": null,
            "flex": null,
            "_model_name": "LayoutModel",
            "justify_items": null,
            "grid_row": null,
            "max_height": null,
            "align_content": null,
            "visibility": null,
            "align_self": null,
            "height": null,
            "min_height": null,
            "padding": null,
            "grid_auto_rows": null,
            "grid_gap": null,
            "max_width": null,
            "order": null,
            "_view_module_version": "1.2.0",
            "grid_template_areas": null,
            "object_position": null,
            "object_fit": null,
            "grid_auto_columns": null,
            "margin": null,
            "display": null,
            "left": null
          }
        },
        "dd84cc4915ba4f41b81b750bac7f77da": {
          "model_module": "@jupyter-widgets/controls",
          "model_name": "HBoxModel",
          "state": {
            "_view_name": "HBoxView",
            "_dom_classes": [],
            "_model_name": "HBoxModel",
            "_view_module": "@jupyter-widgets/controls",
            "_model_module_version": "1.5.0",
            "_view_count": null,
            "_view_module_version": "1.5.0",
            "box_style": "",
            "layout": "IPY_MODEL_99ba880cf2b548ac8e9c921d2cd6b406",
            "_model_module": "@jupyter-widgets/controls",
            "children": [
              "IPY_MODEL_d3ceaace3a33432c914722cdca573ff8",
              "IPY_MODEL_f4db3eb78a564e54a4fb478bd60c77d1"
            ]
          }
        },
        "99ba880cf2b548ac8e9c921d2cd6b406": {
          "model_module": "@jupyter-widgets/base",
          "model_name": "LayoutModel",
          "state": {
            "_view_name": "LayoutView",
            "grid_template_rows": null,
            "right": null,
            "justify_content": null,
            "_view_module": "@jupyter-widgets/base",
            "overflow": null,
            "_model_module_version": "1.2.0",
            "_view_count": null,
            "flex_flow": null,
            "width": null,
            "min_width": null,
            "border": null,
            "align_items": null,
            "bottom": null,
            "_model_module": "@jupyter-widgets/base",
            "top": null,
            "grid_column": null,
            "overflow_y": null,
            "overflow_x": null,
            "grid_auto_flow": null,
            "grid_area": null,
            "grid_template_columns": null,
            "flex": null,
            "_model_name": "LayoutModel",
            "justify_items": null,
            "grid_row": null,
            "max_height": null,
            "align_content": null,
            "visibility": null,
            "align_self": null,
            "height": null,
            "min_height": null,
            "padding": null,
            "grid_auto_rows": null,
            "grid_gap": null,
            "max_width": null,
            "order": null,
            "_view_module_version": "1.2.0",
            "grid_template_areas": null,
            "object_position": null,
            "object_fit": null,
            "grid_auto_columns": null,
            "margin": null,
            "display": null,
            "left": null
          }
        },
        "d3ceaace3a33432c914722cdca573ff8": {
          "model_module": "@jupyter-widgets/controls",
          "model_name": "FloatProgressModel",
          "state": {
            "_view_name": "ProgressView",
            "style": "IPY_MODEL_6074e4f48e644d268ff69a55e2d11777",
            "_dom_classes": [],
            "description": "Extraction completed...: 100%",
            "_model_name": "FloatProgressModel",
            "bar_style": "success",
            "max": 1,
            "_view_module": "@jupyter-widgets/controls",
            "_model_module_version": "1.5.0",
            "value": 1,
            "_view_count": null,
            "_view_module_version": "1.5.0",
            "orientation": "horizontal",
            "min": 0,
            "description_tooltip": null,
            "_model_module": "@jupyter-widgets/controls",
            "layout": "IPY_MODEL_477bfaa8652e4b0e807740b93db1af0a"
          }
        },
        "f4db3eb78a564e54a4fb478bd60c77d1": {
          "model_module": "@jupyter-widgets/controls",
          "model_name": "HTMLModel",
          "state": {
            "_view_name": "HTMLView",
            "style": "IPY_MODEL_ce08c9fcbb1a44828276cb33bea0f290",
            "_dom_classes": [],
            "description": "",
            "_model_name": "HTMLModel",
            "placeholder": "​",
            "_view_module": "@jupyter-widgets/controls",
            "_model_module_version": "1.5.0",
            "value": " 1/1 [00:08&lt;00:00,  8.84s/ file]",
            "_view_count": null,
            "_view_module_version": "1.5.0",
            "description_tooltip": null,
            "_model_module": "@jupyter-widgets/controls",
            "layout": "IPY_MODEL_74773236c3434b109bd15a9937d19dd3"
          }
        },
        "6074e4f48e644d268ff69a55e2d11777": {
          "model_module": "@jupyter-widgets/controls",
          "model_name": "ProgressStyleModel",
          "state": {
            "_view_name": "StyleView",
            "_model_name": "ProgressStyleModel",
            "description_width": "initial",
            "_view_module": "@jupyter-widgets/base",
            "_model_module_version": "1.5.0",
            "_view_count": null,
            "_view_module_version": "1.2.0",
            "bar_color": null,
            "_model_module": "@jupyter-widgets/controls"
          }
        },
        "477bfaa8652e4b0e807740b93db1af0a": {
          "model_module": "@jupyter-widgets/base",
          "model_name": "LayoutModel",
          "state": {
            "_view_name": "LayoutView",
            "grid_template_rows": null,
            "right": null,
            "justify_content": null,
            "_view_module": "@jupyter-widgets/base",
            "overflow": null,
            "_model_module_version": "1.2.0",
            "_view_count": null,
            "flex_flow": null,
            "width": null,
            "min_width": null,
            "border": null,
            "align_items": null,
            "bottom": null,
            "_model_module": "@jupyter-widgets/base",
            "top": null,
            "grid_column": null,
            "overflow_y": null,
            "overflow_x": null,
            "grid_auto_flow": null,
            "grid_area": null,
            "grid_template_columns": null,
            "flex": null,
            "_model_name": "LayoutModel",
            "justify_items": null,
            "grid_row": null,
            "max_height": null,
            "align_content": null,
            "visibility": null,
            "align_self": null,
            "height": null,
            "min_height": null,
            "padding": null,
            "grid_auto_rows": null,
            "grid_gap": null,
            "max_width": null,
            "order": null,
            "_view_module_version": "1.2.0",
            "grid_template_areas": null,
            "object_position": null,
            "object_fit": null,
            "grid_auto_columns": null,
            "margin": null,
            "display": null,
            "left": null
          }
        },
        "ce08c9fcbb1a44828276cb33bea0f290": {
          "model_module": "@jupyter-widgets/controls",
          "model_name": "DescriptionStyleModel",
          "state": {
            "_view_name": "StyleView",
            "_model_name": "DescriptionStyleModel",
            "description_width": "",
            "_view_module": "@jupyter-widgets/base",
            "_model_module_version": "1.5.0",
            "_view_count": null,
            "_view_module_version": "1.2.0",
            "_model_module": "@jupyter-widgets/controls"
          }
        },
        "74773236c3434b109bd15a9937d19dd3": {
          "model_module": "@jupyter-widgets/base",
          "model_name": "LayoutModel",
          "state": {
            "_view_name": "LayoutView",
            "grid_template_rows": null,
            "right": null,
            "justify_content": null,
            "_view_module": "@jupyter-widgets/base",
            "overflow": null,
            "_model_module_version": "1.2.0",
            "_view_count": null,
            "flex_flow": null,
            "width": null,
            "min_width": null,
            "border": null,
            "align_items": null,
            "bottom": null,
            "_model_module": "@jupyter-widgets/base",
            "top": null,
            "grid_column": null,
            "overflow_y": null,
            "overflow_x": null,
            "grid_auto_flow": null,
            "grid_area": null,
            "grid_template_columns": null,
            "flex": null,
            "_model_name": "LayoutModel",
            "justify_items": null,
            "grid_row": null,
            "max_height": null,
            "align_content": null,
            "visibility": null,
            "align_self": null,
            "height": null,
            "min_height": null,
            "padding": null,
            "grid_auto_rows": null,
            "grid_gap": null,
            "max_width": null,
            "order": null,
            "_view_module_version": "1.2.0",
            "grid_template_areas": null,
            "object_position": null,
            "object_fit": null,
            "grid_auto_columns": null,
            "margin": null,
            "display": null,
            "left": null
          }
        },
        "a13c8dd3fc294491bee70649f4b43769": {
          "model_module": "@jupyter-widgets/controls",
          "model_name": "HBoxModel",
          "state": {
            "_view_name": "HBoxView",
            "_dom_classes": [],
            "_model_name": "HBoxModel",
            "_view_module": "@jupyter-widgets/controls",
            "_model_module_version": "1.5.0",
            "_view_count": null,
            "_view_module_version": "1.5.0",
            "box_style": "",
            "layout": "IPY_MODEL_0e008f326a1c45f89cacecaee1b4a6ee",
            "_model_module": "@jupyter-widgets/controls",
            "children": [
              "IPY_MODEL_fdded96d50944948876509e9329cc7bb",
              "IPY_MODEL_327b274da2944af8a329b9c75f26ed7a"
            ]
          }
        },
        "0e008f326a1c45f89cacecaee1b4a6ee": {
          "model_module": "@jupyter-widgets/base",
          "model_name": "LayoutModel",
          "state": {
            "_view_name": "LayoutView",
            "grid_template_rows": null,
            "right": null,
            "justify_content": null,
            "_view_module": "@jupyter-widgets/base",
            "overflow": null,
            "_model_module_version": "1.2.0",
            "_view_count": null,
            "flex_flow": null,
            "width": null,
            "min_width": null,
            "border": null,
            "align_items": null,
            "bottom": null,
            "_model_module": "@jupyter-widgets/base",
            "top": null,
            "grid_column": null,
            "overflow_y": null,
            "overflow_x": null,
            "grid_auto_flow": null,
            "grid_area": null,
            "grid_template_columns": null,
            "flex": null,
            "_model_name": "LayoutModel",
            "justify_items": null,
            "grid_row": null,
            "max_height": null,
            "align_content": null,
            "visibility": null,
            "align_self": null,
            "height": null,
            "min_height": null,
            "padding": null,
            "grid_auto_rows": null,
            "grid_gap": null,
            "max_width": null,
            "order": null,
            "_view_module_version": "1.2.0",
            "grid_template_areas": null,
            "object_position": null,
            "object_fit": null,
            "grid_auto_columns": null,
            "margin": null,
            "display": null,
            "left": null
          }
        },
        "fdded96d50944948876509e9329cc7bb": {
          "model_module": "@jupyter-widgets/controls",
          "model_name": "FloatProgressModel",
          "state": {
            "_view_name": "ProgressView",
            "style": "IPY_MODEL_476bb91a153744b3a48e3b0b51a91b70",
            "_dom_classes": [],
            "description": "",
            "_model_name": "FloatProgressModel",
            "bar_style": "info",
            "max": 1,
            "_view_module": "@jupyter-widgets/controls",
            "_model_module_version": "1.5.0",
            "value": 1,
            "_view_count": null,
            "_view_module_version": "1.5.0",
            "orientation": "horizontal",
            "min": 0,
            "description_tooltip": null,
            "_model_module": "@jupyter-widgets/controls",
            "layout": "IPY_MODEL_6fbdf26c2eda49d186fff26561d4c02c"
          }
        },
        "327b274da2944af8a329b9c75f26ed7a": {
          "model_module": "@jupyter-widgets/controls",
          "model_name": "HTMLModel",
          "state": {
            "_view_name": "HTMLView",
            "style": "IPY_MODEL_54e8991e729d4b9dbfa2e2cb0980baa1",
            "_dom_classes": [],
            "description": "",
            "_model_name": "HTMLModel",
            "placeholder": "​",
            "_view_module": "@jupyter-widgets/controls",
            "_model_module_version": "1.5.0",
            "value": " 50000/0 [00:31&lt;00:00, 1652.53 examples/s]",
            "_view_count": null,
            "_view_module_version": "1.5.0",
            "description_tooltip": null,
            "_model_module": "@jupyter-widgets/controls",
            "layout": "IPY_MODEL_5e13d92f3fe84df29cc3d347f9fbe846"
          }
        },
        "476bb91a153744b3a48e3b0b51a91b70": {
          "model_module": "@jupyter-widgets/controls",
          "model_name": "ProgressStyleModel",
          "state": {
            "_view_name": "StyleView",
            "_model_name": "ProgressStyleModel",
            "description_width": "initial",
            "_view_module": "@jupyter-widgets/base",
            "_model_module_version": "1.5.0",
            "_view_count": null,
            "_view_module_version": "1.2.0",
            "bar_color": null,
            "_model_module": "@jupyter-widgets/controls"
          }
        },
        "6fbdf26c2eda49d186fff26561d4c02c": {
          "model_module": "@jupyter-widgets/base",
          "model_name": "LayoutModel",
          "state": {
            "_view_name": "LayoutView",
            "grid_template_rows": null,
            "right": null,
            "justify_content": null,
            "_view_module": "@jupyter-widgets/base",
            "overflow": null,
            "_model_module_version": "1.2.0",
            "_view_count": null,
            "flex_flow": null,
            "width": null,
            "min_width": null,
            "border": null,
            "align_items": null,
            "bottom": null,
            "_model_module": "@jupyter-widgets/base",
            "top": null,
            "grid_column": null,
            "overflow_y": null,
            "overflow_x": null,
            "grid_auto_flow": null,
            "grid_area": null,
            "grid_template_columns": null,
            "flex": null,
            "_model_name": "LayoutModel",
            "justify_items": null,
            "grid_row": null,
            "max_height": null,
            "align_content": null,
            "visibility": null,
            "align_self": null,
            "height": null,
            "min_height": null,
            "padding": null,
            "grid_auto_rows": null,
            "grid_gap": null,
            "max_width": null,
            "order": null,
            "_view_module_version": "1.2.0",
            "grid_template_areas": null,
            "object_position": null,
            "object_fit": null,
            "grid_auto_columns": null,
            "margin": null,
            "display": null,
            "left": null
          }
        },
        "54e8991e729d4b9dbfa2e2cb0980baa1": {
          "model_module": "@jupyter-widgets/controls",
          "model_name": "DescriptionStyleModel",
          "state": {
            "_view_name": "StyleView",
            "_model_name": "DescriptionStyleModel",
            "description_width": "",
            "_view_module": "@jupyter-widgets/base",
            "_model_module_version": "1.5.0",
            "_view_count": null,
            "_view_module_version": "1.2.0",
            "_model_module": "@jupyter-widgets/controls"
          }
        },
        "5e13d92f3fe84df29cc3d347f9fbe846": {
          "model_module": "@jupyter-widgets/base",
          "model_name": "LayoutModel",
          "state": {
            "_view_name": "LayoutView",
            "grid_template_rows": null,
            "right": null,
            "justify_content": null,
            "_view_module": "@jupyter-widgets/base",
            "overflow": null,
            "_model_module_version": "1.2.0",
            "_view_count": null,
            "flex_flow": null,
            "width": null,
            "min_width": null,
            "border": null,
            "align_items": null,
            "bottom": null,
            "_model_module": "@jupyter-widgets/base",
            "top": null,
            "grid_column": null,
            "overflow_y": null,
            "overflow_x": null,
            "grid_auto_flow": null,
            "grid_area": null,
            "grid_template_columns": null,
            "flex": null,
            "_model_name": "LayoutModel",
            "justify_items": null,
            "grid_row": null,
            "max_height": null,
            "align_content": null,
            "visibility": null,
            "align_self": null,
            "height": null,
            "min_height": null,
            "padding": null,
            "grid_auto_rows": null,
            "grid_gap": null,
            "max_width": null,
            "order": null,
            "_view_module_version": "1.2.0",
            "grid_template_areas": null,
            "object_position": null,
            "object_fit": null,
            "grid_auto_columns": null,
            "margin": null,
            "display": null,
            "left": null
          }
        },
        "95b4da962fed4182a4a54f70519bb073": {
          "model_module": "@jupyter-widgets/controls",
          "model_name": "HBoxModel",
          "state": {
            "_view_name": "HBoxView",
            "_dom_classes": [],
            "_model_name": "HBoxModel",
            "_view_module": "@jupyter-widgets/controls",
            "_model_module_version": "1.5.0",
            "_view_count": null,
            "_view_module_version": "1.5.0",
            "box_style": "",
            "layout": "IPY_MODEL_97c0712f348d49d7992e7e06a123cb85",
            "_model_module": "@jupyter-widgets/controls",
            "children": [
              "IPY_MODEL_d79f8173ef1f4003a1b139ba5a51b76c",
              "IPY_MODEL_e588a54b31be43039b3ca63260e7a9c3"
            ]
          }
        },
        "97c0712f348d49d7992e7e06a123cb85": {
          "model_module": "@jupyter-widgets/base",
          "model_name": "LayoutModel",
          "state": {
            "_view_name": "LayoutView",
            "grid_template_rows": null,
            "right": null,
            "justify_content": null,
            "_view_module": "@jupyter-widgets/base",
            "overflow": null,
            "_model_module_version": "1.2.0",
            "_view_count": null,
            "flex_flow": null,
            "width": null,
            "min_width": null,
            "border": null,
            "align_items": null,
            "bottom": null,
            "_model_module": "@jupyter-widgets/base",
            "top": null,
            "grid_column": null,
            "overflow_y": null,
            "overflow_x": null,
            "grid_auto_flow": null,
            "grid_area": null,
            "grid_template_columns": null,
            "flex": null,
            "_model_name": "LayoutModel",
            "justify_items": null,
            "grid_row": null,
            "max_height": null,
            "align_content": null,
            "visibility": null,
            "align_self": null,
            "height": null,
            "min_height": null,
            "padding": null,
            "grid_auto_rows": null,
            "grid_gap": null,
            "max_width": null,
            "order": null,
            "_view_module_version": "1.2.0",
            "grid_template_areas": null,
            "object_position": null,
            "object_fit": null,
            "grid_auto_columns": null,
            "margin": null,
            "display": null,
            "left": null
          }
        },
        "d79f8173ef1f4003a1b139ba5a51b76c": {
          "model_module": "@jupyter-widgets/controls",
          "model_name": "FloatProgressModel",
          "state": {
            "_view_name": "ProgressView",
            "style": "IPY_MODEL_a698c42b60464990b40fe839de2ca343",
            "_dom_classes": [],
            "description": " 89%",
            "_model_name": "FloatProgressModel",
            "bar_style": "danger",
            "max": 50000,
            "_view_module": "@jupyter-widgets/controls",
            "_model_module_version": "1.5.0",
            "value": 44361,
            "_view_count": null,
            "_view_module_version": "1.5.0",
            "orientation": "horizontal",
            "min": 0,
            "description_tooltip": null,
            "_model_module": "@jupyter-widgets/controls",
            "layout": "IPY_MODEL_365dc33b976b4bda8951675f463f6e07"
          }
        },
        "e588a54b31be43039b3ca63260e7a9c3": {
          "model_module": "@jupyter-widgets/controls",
          "model_name": "HTMLModel",
          "state": {
            "_view_name": "HTMLView",
            "style": "IPY_MODEL_7e7ab08d466c450688e57911f1da86e8",
            "_dom_classes": [],
            "description": "",
            "_model_name": "HTMLModel",
            "placeholder": "​",
            "_view_module": "@jupyter-widgets/controls",
            "_model_module_version": "1.5.0",
            "value": " 44361/50000 [00:00&lt;00:00, 24072.73 examples/s]",
            "_view_count": null,
            "_view_module_version": "1.5.0",
            "description_tooltip": null,
            "_model_module": "@jupyter-widgets/controls",
            "layout": "IPY_MODEL_db68414e54d84586939cdbed52d57c46"
          }
        },
        "a698c42b60464990b40fe839de2ca343": {
          "model_module": "@jupyter-widgets/controls",
          "model_name": "ProgressStyleModel",
          "state": {
            "_view_name": "StyleView",
            "_model_name": "ProgressStyleModel",
            "description_width": "initial",
            "_view_module": "@jupyter-widgets/base",
            "_model_module_version": "1.5.0",
            "_view_count": null,
            "_view_module_version": "1.2.0",
            "bar_color": null,
            "_model_module": "@jupyter-widgets/controls"
          }
        },
        "365dc33b976b4bda8951675f463f6e07": {
          "model_module": "@jupyter-widgets/base",
          "model_name": "LayoutModel",
          "state": {
            "_view_name": "LayoutView",
            "grid_template_rows": null,
            "right": null,
            "justify_content": null,
            "_view_module": "@jupyter-widgets/base",
            "overflow": null,
            "_model_module_version": "1.2.0",
            "_view_count": null,
            "flex_flow": null,
            "width": null,
            "min_width": null,
            "border": null,
            "align_items": null,
            "bottom": null,
            "_model_module": "@jupyter-widgets/base",
            "top": null,
            "grid_column": null,
            "overflow_y": null,
            "overflow_x": null,
            "grid_auto_flow": null,
            "grid_area": null,
            "grid_template_columns": null,
            "flex": null,
            "_model_name": "LayoutModel",
            "justify_items": null,
            "grid_row": null,
            "max_height": null,
            "align_content": null,
            "visibility": null,
            "align_self": null,
            "height": null,
            "min_height": null,
            "padding": null,
            "grid_auto_rows": null,
            "grid_gap": null,
            "max_width": null,
            "order": null,
            "_view_module_version": "1.2.0",
            "grid_template_areas": null,
            "object_position": null,
            "object_fit": null,
            "grid_auto_columns": null,
            "margin": null,
            "display": null,
            "left": null
          }
        },
        "7e7ab08d466c450688e57911f1da86e8": {
          "model_module": "@jupyter-widgets/controls",
          "model_name": "DescriptionStyleModel",
          "state": {
            "_view_name": "StyleView",
            "_model_name": "DescriptionStyleModel",
            "description_width": "",
            "_view_module": "@jupyter-widgets/base",
            "_model_module_version": "1.5.0",
            "_view_count": null,
            "_view_module_version": "1.2.0",
            "_model_module": "@jupyter-widgets/controls"
          }
        },
        "db68414e54d84586939cdbed52d57c46": {
          "model_module": "@jupyter-widgets/base",
          "model_name": "LayoutModel",
          "state": {
            "_view_name": "LayoutView",
            "grid_template_rows": null,
            "right": null,
            "justify_content": null,
            "_view_module": "@jupyter-widgets/base",
            "overflow": null,
            "_model_module_version": "1.2.0",
            "_view_count": null,
            "flex_flow": null,
            "width": null,
            "min_width": null,
            "border": null,
            "align_items": null,
            "bottom": null,
            "_model_module": "@jupyter-widgets/base",
            "top": null,
            "grid_column": null,
            "overflow_y": null,
            "overflow_x": null,
            "grid_auto_flow": null,
            "grid_area": null,
            "grid_template_columns": null,
            "flex": null,
            "_model_name": "LayoutModel",
            "justify_items": null,
            "grid_row": null,
            "max_height": null,
            "align_content": null,
            "visibility": null,
            "align_self": null,
            "height": null,
            "min_height": null,
            "padding": null,
            "grid_auto_rows": null,
            "grid_gap": null,
            "max_width": null,
            "order": null,
            "_view_module_version": "1.2.0",
            "grid_template_areas": null,
            "object_position": null,
            "object_fit": null,
            "grid_auto_columns": null,
            "margin": null,
            "display": null,
            "left": null
          }
        },
        "41065d4a1a8c4688aeeb59b872fd514d": {
          "model_module": "@jupyter-widgets/controls",
          "model_name": "HBoxModel",
          "state": {
            "_view_name": "HBoxView",
            "_dom_classes": [],
            "_model_name": "HBoxModel",
            "_view_module": "@jupyter-widgets/controls",
            "_model_module_version": "1.5.0",
            "_view_count": null,
            "_view_module_version": "1.5.0",
            "box_style": "",
            "layout": "IPY_MODEL_0294d3ec3bd44f4fb4ff0934cebdce2e",
            "_model_module": "@jupyter-widgets/controls",
            "children": [
              "IPY_MODEL_cef24e27a69b427bb09e32173b7c435c",
              "IPY_MODEL_ccf0e3d4efe448aa96a846ffecd98994"
            ]
          }
        },
        "0294d3ec3bd44f4fb4ff0934cebdce2e": {
          "model_module": "@jupyter-widgets/base",
          "model_name": "LayoutModel",
          "state": {
            "_view_name": "LayoutView",
            "grid_template_rows": null,
            "right": null,
            "justify_content": null,
            "_view_module": "@jupyter-widgets/base",
            "overflow": null,
            "_model_module_version": "1.2.0",
            "_view_count": null,
            "flex_flow": null,
            "width": null,
            "min_width": null,
            "border": null,
            "align_items": null,
            "bottom": null,
            "_model_module": "@jupyter-widgets/base",
            "top": null,
            "grid_column": null,
            "overflow_y": null,
            "overflow_x": null,
            "grid_auto_flow": null,
            "grid_area": null,
            "grid_template_columns": null,
            "flex": null,
            "_model_name": "LayoutModel",
            "justify_items": null,
            "grid_row": null,
            "max_height": null,
            "align_content": null,
            "visibility": null,
            "align_self": null,
            "height": null,
            "min_height": null,
            "padding": null,
            "grid_auto_rows": null,
            "grid_gap": null,
            "max_width": null,
            "order": null,
            "_view_module_version": "1.2.0",
            "grid_template_areas": null,
            "object_position": null,
            "object_fit": null,
            "grid_auto_columns": null,
            "margin": null,
            "display": null,
            "left": null
          }
        },
        "cef24e27a69b427bb09e32173b7c435c": {
          "model_module": "@jupyter-widgets/controls",
          "model_name": "FloatProgressModel",
          "state": {
            "_view_name": "ProgressView",
            "style": "IPY_MODEL_64a63132570a43ba9bb444e7014c5324",
            "_dom_classes": [],
            "description": "",
            "_model_name": "FloatProgressModel",
            "bar_style": "info",
            "max": 1,
            "_view_module": "@jupyter-widgets/controls",
            "_model_module_version": "1.5.0",
            "value": 1,
            "_view_count": null,
            "_view_module_version": "1.5.0",
            "orientation": "horizontal",
            "min": 0,
            "description_tooltip": null,
            "_model_module": "@jupyter-widgets/controls",
            "layout": "IPY_MODEL_2ee04ff4f83e44e692a23db6a9ffb3e0"
          }
        },
        "ccf0e3d4efe448aa96a846ffecd98994": {
          "model_module": "@jupyter-widgets/controls",
          "model_name": "HTMLModel",
          "state": {
            "_view_name": "HTMLView",
            "style": "IPY_MODEL_c627850523044d5784431f81061659b8",
            "_dom_classes": [],
            "description": "",
            "_model_name": "HTMLModel",
            "placeholder": "​",
            "_view_module": "@jupyter-widgets/controls",
            "_model_module_version": "1.5.0",
            "value": " 10000/0 [00:06&lt;00:00, 1596.11 examples/s]",
            "_view_count": null,
            "_view_module_version": "1.5.0",
            "description_tooltip": null,
            "_model_module": "@jupyter-widgets/controls",
            "layout": "IPY_MODEL_c2aab4f9fa2b480d99b5487279c9c4b7"
          }
        },
        "64a63132570a43ba9bb444e7014c5324": {
          "model_module": "@jupyter-widgets/controls",
          "model_name": "ProgressStyleModel",
          "state": {
            "_view_name": "StyleView",
            "_model_name": "ProgressStyleModel",
            "description_width": "initial",
            "_view_module": "@jupyter-widgets/base",
            "_model_module_version": "1.5.0",
            "_view_count": null,
            "_view_module_version": "1.2.0",
            "bar_color": null,
            "_model_module": "@jupyter-widgets/controls"
          }
        },
        "2ee04ff4f83e44e692a23db6a9ffb3e0": {
          "model_module": "@jupyter-widgets/base",
          "model_name": "LayoutModel",
          "state": {
            "_view_name": "LayoutView",
            "grid_template_rows": null,
            "right": null,
            "justify_content": null,
            "_view_module": "@jupyter-widgets/base",
            "overflow": null,
            "_model_module_version": "1.2.0",
            "_view_count": null,
            "flex_flow": null,
            "width": null,
            "min_width": null,
            "border": null,
            "align_items": null,
            "bottom": null,
            "_model_module": "@jupyter-widgets/base",
            "top": null,
            "grid_column": null,
            "overflow_y": null,
            "overflow_x": null,
            "grid_auto_flow": null,
            "grid_area": null,
            "grid_template_columns": null,
            "flex": null,
            "_model_name": "LayoutModel",
            "justify_items": null,
            "grid_row": null,
            "max_height": null,
            "align_content": null,
            "visibility": null,
            "align_self": null,
            "height": null,
            "min_height": null,
            "padding": null,
            "grid_auto_rows": null,
            "grid_gap": null,
            "max_width": null,
            "order": null,
            "_view_module_version": "1.2.0",
            "grid_template_areas": null,
            "object_position": null,
            "object_fit": null,
            "grid_auto_columns": null,
            "margin": null,
            "display": null,
            "left": null
          }
        },
        "c627850523044d5784431f81061659b8": {
          "model_module": "@jupyter-widgets/controls",
          "model_name": "DescriptionStyleModel",
          "state": {
            "_view_name": "StyleView",
            "_model_name": "DescriptionStyleModel",
            "description_width": "",
            "_view_module": "@jupyter-widgets/base",
            "_model_module_version": "1.5.0",
            "_view_count": null,
            "_view_module_version": "1.2.0",
            "_model_module": "@jupyter-widgets/controls"
          }
        },
        "c2aab4f9fa2b480d99b5487279c9c4b7": {
          "model_module": "@jupyter-widgets/base",
          "model_name": "LayoutModel",
          "state": {
            "_view_name": "LayoutView",
            "grid_template_rows": null,
            "right": null,
            "justify_content": null,
            "_view_module": "@jupyter-widgets/base",
            "overflow": null,
            "_model_module_version": "1.2.0",
            "_view_count": null,
            "flex_flow": null,
            "width": null,
            "min_width": null,
            "border": null,
            "align_items": null,
            "bottom": null,
            "_model_module": "@jupyter-widgets/base",
            "top": null,
            "grid_column": null,
            "overflow_y": null,
            "overflow_x": null,
            "grid_auto_flow": null,
            "grid_area": null,
            "grid_template_columns": null,
            "flex": null,
            "_model_name": "LayoutModel",
            "justify_items": null,
            "grid_row": null,
            "max_height": null,
            "align_content": null,
            "visibility": null,
            "align_self": null,
            "height": null,
            "min_height": null,
            "padding": null,
            "grid_auto_rows": null,
            "grid_gap": null,
            "max_width": null,
            "order": null,
            "_view_module_version": "1.2.0",
            "grid_template_areas": null,
            "object_position": null,
            "object_fit": null,
            "grid_auto_columns": null,
            "margin": null,
            "display": null,
            "left": null
          }
        },
        "8584b1f8869f470783483650ee1665ab": {
          "model_module": "@jupyter-widgets/controls",
          "model_name": "HBoxModel",
          "state": {
            "_view_name": "HBoxView",
            "_dom_classes": [],
            "_model_name": "HBoxModel",
            "_view_module": "@jupyter-widgets/controls",
            "_model_module_version": "1.5.0",
            "_view_count": null,
            "_view_module_version": "1.5.0",
            "box_style": "",
            "layout": "IPY_MODEL_96d40cb5bff940b1a0bcfc62a6295d9b",
            "_model_module": "@jupyter-widgets/controls",
            "children": [
              "IPY_MODEL_bd8abfbae25b4e44a78ba9d530f82c75",
              "IPY_MODEL_fd2cb2519e0545cea556219a158114c2"
            ]
          }
        },
        "96d40cb5bff940b1a0bcfc62a6295d9b": {
          "model_module": "@jupyter-widgets/base",
          "model_name": "LayoutModel",
          "state": {
            "_view_name": "LayoutView",
            "grid_template_rows": null,
            "right": null,
            "justify_content": null,
            "_view_module": "@jupyter-widgets/base",
            "overflow": null,
            "_model_module_version": "1.2.0",
            "_view_count": null,
            "flex_flow": null,
            "width": null,
            "min_width": null,
            "border": null,
            "align_items": null,
            "bottom": null,
            "_model_module": "@jupyter-widgets/base",
            "top": null,
            "grid_column": null,
            "overflow_y": null,
            "overflow_x": null,
            "grid_auto_flow": null,
            "grid_area": null,
            "grid_template_columns": null,
            "flex": null,
            "_model_name": "LayoutModel",
            "justify_items": null,
            "grid_row": null,
            "max_height": null,
            "align_content": null,
            "visibility": null,
            "align_self": null,
            "height": null,
            "min_height": null,
            "padding": null,
            "grid_auto_rows": null,
            "grid_gap": null,
            "max_width": null,
            "order": null,
            "_view_module_version": "1.2.0",
            "grid_template_areas": null,
            "object_position": null,
            "object_fit": null,
            "grid_auto_columns": null,
            "margin": null,
            "display": null,
            "left": null
          }
        },
        "bd8abfbae25b4e44a78ba9d530f82c75": {
          "model_module": "@jupyter-widgets/controls",
          "model_name": "FloatProgressModel",
          "state": {
            "_view_name": "ProgressView",
            "style": "IPY_MODEL_0d48201409c84742a1fe103be6c8dda2",
            "_dom_classes": [],
            "description": " 90%",
            "_model_name": "FloatProgressModel",
            "bar_style": "danger",
            "max": 10000,
            "_view_module": "@jupyter-widgets/controls",
            "_model_module_version": "1.5.0",
            "value": 8974,
            "_view_count": null,
            "_view_module_version": "1.5.0",
            "orientation": "horizontal",
            "min": 0,
            "description_tooltip": null,
            "_model_module": "@jupyter-widgets/controls",
            "layout": "IPY_MODEL_f3fa10af6cf647729419fd1399212dc8"
          }
        },
        "fd2cb2519e0545cea556219a158114c2": {
          "model_module": "@jupyter-widgets/controls",
          "model_name": "HTMLModel",
          "state": {
            "_view_name": "HTMLView",
            "style": "IPY_MODEL_859f55f458fa4c9dba1333b6d1e595e0",
            "_dom_classes": [],
            "description": "",
            "_model_name": "HTMLModel",
            "placeholder": "​",
            "_view_module": "@jupyter-widgets/controls",
            "_model_module_version": "1.5.0",
            "value": " 8974/10000 [00:00&lt;00:00, 89739.44 examples/s]",
            "_view_count": null,
            "_view_module_version": "1.5.0",
            "description_tooltip": null,
            "_model_module": "@jupyter-widgets/controls",
            "layout": "IPY_MODEL_6f1e62298f5b4fd09b57dd5bf6752d85"
          }
        },
        "0d48201409c84742a1fe103be6c8dda2": {
          "model_module": "@jupyter-widgets/controls",
          "model_name": "ProgressStyleModel",
          "state": {
            "_view_name": "StyleView",
            "_model_name": "ProgressStyleModel",
            "description_width": "initial",
            "_view_module": "@jupyter-widgets/base",
            "_model_module_version": "1.5.0",
            "_view_count": null,
            "_view_module_version": "1.2.0",
            "bar_color": null,
            "_model_module": "@jupyter-widgets/controls"
          }
        },
        "f3fa10af6cf647729419fd1399212dc8": {
          "model_module": "@jupyter-widgets/base",
          "model_name": "LayoutModel",
          "state": {
            "_view_name": "LayoutView",
            "grid_template_rows": null,
            "right": null,
            "justify_content": null,
            "_view_module": "@jupyter-widgets/base",
            "overflow": null,
            "_model_module_version": "1.2.0",
            "_view_count": null,
            "flex_flow": null,
            "width": null,
            "min_width": null,
            "border": null,
            "align_items": null,
            "bottom": null,
            "_model_module": "@jupyter-widgets/base",
            "top": null,
            "grid_column": null,
            "overflow_y": null,
            "overflow_x": null,
            "grid_auto_flow": null,
            "grid_area": null,
            "grid_template_columns": null,
            "flex": null,
            "_model_name": "LayoutModel",
            "justify_items": null,
            "grid_row": null,
            "max_height": null,
            "align_content": null,
            "visibility": null,
            "align_self": null,
            "height": null,
            "min_height": null,
            "padding": null,
            "grid_auto_rows": null,
            "grid_gap": null,
            "max_width": null,
            "order": null,
            "_view_module_version": "1.2.0",
            "grid_template_areas": null,
            "object_position": null,
            "object_fit": null,
            "grid_auto_columns": null,
            "margin": null,
            "display": null,
            "left": null
          }
        },
        "859f55f458fa4c9dba1333b6d1e595e0": {
          "model_module": "@jupyter-widgets/controls",
          "model_name": "DescriptionStyleModel",
          "state": {
            "_view_name": "StyleView",
            "_model_name": "DescriptionStyleModel",
            "description_width": "",
            "_view_module": "@jupyter-widgets/base",
            "_model_module_version": "1.5.0",
            "_view_count": null,
            "_view_module_version": "1.2.0",
            "_model_module": "@jupyter-widgets/controls"
          }
        },
        "6f1e62298f5b4fd09b57dd5bf6752d85": {
          "model_module": "@jupyter-widgets/base",
          "model_name": "LayoutModel",
          "state": {
            "_view_name": "LayoutView",
            "grid_template_rows": null,
            "right": null,
            "justify_content": null,
            "_view_module": "@jupyter-widgets/base",
            "overflow": null,
            "_model_module_version": "1.2.0",
            "_view_count": null,
            "flex_flow": null,
            "width": null,
            "min_width": null,
            "border": null,
            "align_items": null,
            "bottom": null,
            "_model_module": "@jupyter-widgets/base",
            "top": null,
            "grid_column": null,
            "overflow_y": null,
            "overflow_x": null,
            "grid_auto_flow": null,
            "grid_area": null,
            "grid_template_columns": null,
            "flex": null,
            "_model_name": "LayoutModel",
            "justify_items": null,
            "grid_row": null,
            "max_height": null,
            "align_content": null,
            "visibility": null,
            "align_self": null,
            "height": null,
            "min_height": null,
            "padding": null,
            "grid_auto_rows": null,
            "grid_gap": null,
            "max_width": null,
            "order": null,
            "_view_module_version": "1.2.0",
            "grid_template_areas": null,
            "object_position": null,
            "object_fit": null,
            "grid_auto_columns": null,
            "margin": null,
            "display": null,
            "left": null
          }
        }
      }
    }
  },
  "cells": [
    {
      "cell_type": "markdown",
      "metadata": {
        "id": "view-in-github",
        "colab_type": "text"
      },
      "source": [
        "<a href=\"https://colab.research.google.com/github/zakrocki-gabriella/ANLY590/blob/master/Homework3_ANLY590.ipynb\" target=\"_parent\"><img src=\"https://colab.research.google.com/assets/colab-badge.svg\" alt=\"Open In Colab\"/></a>"
      ]
    },
    {
      "cell_type": "markdown",
      "metadata": {
        "id": "qXzLMpZL0WlK"
      },
      "source": [
        "# ANLY590 - Homework 3\n"
      ]
    },
    {
      "cell_type": "markdown",
      "metadata": {
        "id": "bNsvG0ay0x1l"
      },
      "source": [
        "##**I. Autoencoder**\n",
        "\n",
        "\n",
        "\n",
        "\n",
        "\n",
        "\n"
      ]
    },
    {
      "cell_type": "markdown",
      "metadata": {
        "id": "dK77CxGkvOz6"
      },
      "source": [
        "A convolutional autoencoder is a particular flavor of autoencoder where we\n",
        "use convolutional layers instead of Dense layers. We have previously applied\n",
        "autoencoders to images using only Dense layers and the result worked fairly\n",
        "well. However, the local spatial correlations of images imply that we should\n",
        "Be able to do better using convolutional layers instead of Dense layers."
      ]
    },
    {
      "cell_type": "markdown",
      "metadata": {
        "id": "1peqbBFIuHzK"
      },
      "source": [
        " > ### 1. Convolutional Autoencoder\n",
        "\n",
        "*   Build and fit a convolutional autoencoder for the CIFAR10 dataset\n",
        "*  The components of this network will be many of the same pieces we’ve used with convolutional classification networks: Conv2D, MaxPooling, and so on.\n",
        "The encoder part of the network should run the input image through a few convolutional layers of your choice. The decoder part of the network will utilize UpSampling2D to get the representation back to the original image size.\n",
        "\n",
        "\n",
        "*  After training your network, visualize some examples of input images and their decoded reconstruction."
      ]
    },
    {
      "cell_type": "code",
      "metadata": {
        "id": "X-EBJvmK0Udd"
      },
      "source": [
        "import warnings\n",
        "warnings.filterwarnings('ignore')\n",
        "\n",
        "import matplotlib.pyplot as plt\n",
        "import numpy as np\n",
        "import pandas as pd\n",
        "from sklearn.model_selection import train_test_split\n",
        "from sklearn.metrics import roc_curve, auc\n",
        "\n",
        "\n",
        "import tensorflow as tf\n",
        "import tensorflow.keras as tfk\n",
        "import tensorflow.keras.layers as tfkl\n",
        "from keras.layers import Input, Dense, Activation, Conv2D, Conv2DTranspose, UpSampling2D, MaxPooling2D, Flatten, BatchNormalization, Reshape\n",
        "from tensorflow.keras.models import Model, Sequential\n",
        "from keras.datasets import cifar10\n",
        "import tensorflow_datasets as tfds"
      ],
      "execution_count": 4,
      "outputs": []
    },
    {
      "cell_type": "code",
      "metadata": {
        "colab": {
          "base_uri": "https://localhost:8080/"
        },
        "id": "zx_GdU_XBTui",
        "outputId": "8569c53e-f4a1-4b03-8ccd-e7022acf7a8d"
      },
      "source": [
        "(x_train, _), (x_test, _) = cifar10.load_data()\n",
        "\n",
        "x_train = x_train.astype('float32') / 255.\n",
        "x_test = x_test.astype('float32') / 255.\n",
        "x_train = np.reshape(x_train, (len(x_train), 32, 32, 3))\n",
        "x_test = np.reshape(x_test, (len(x_test), 32, 32, 3))"
      ],
      "execution_count": 5,
      "outputs": [
        {
          "output_type": "stream",
          "text": [
            "Downloading data from https://www.cs.toronto.edu/~kriz/cifar-10-python.tar.gz\n",
            "170500096/170498071 [==============================] - 6s 0us/step\n"
          ],
          "name": "stdout"
        }
      ]
    },
    {
      "cell_type": "code",
      "metadata": {
        "colab": {
          "base_uri": "https://localhost:8080/",
          "height": 129
        },
        "id": "A6ubUYAu18wA",
        "outputId": "7e00154a-47f7-43d8-d70f-e9de79146303"
      },
      "source": [
        "# looking at some of the original images\n",
        "n = 10\n",
        "plt.figure(figsize=(20, 2))\n",
        "for i in range(1, n + 1):\n",
        "    ax = plt.subplot(1, n, i)\n",
        "    plt.imshow(x_test[i].reshape(32, 32, 3))\n",
        "    plt.gray()\n",
        "    ax.get_xaxis().set_visible(False)\n",
        "    ax.get_yaxis().set_visible(False)\n",
        "plt.show()"
      ],
      "execution_count": 6,
      "outputs": [
        {
          "output_type": "display_data",
          "data": {
            "image/png": "[encoded data removed]",
            "text/plain": [
              "<Figure size 1440x144 with 10 Axes>"
            ]
          },
          "metadata": {
            "tags": [],
            "needs_background": "light"
          }
        }
      ]
    },
    {
      "cell_type": "code",
      "metadata": {
        "colab": {
          "base_uri": "https://localhost:8080/"
        },
        "id": "z2uvYfzl-8WH",
        "outputId": "5f1348d5-7845-46b1-db09-bfee7bcf95e2"
      },
      "source": [
        "input_img = tfk.Input(shape=(32, 32, 3))\n",
        "\n",
        "x = tfkl.Conv2D(64, (3, 3), activation='relu', padding='same')(input_img)\n",
        "x = tfkl.MaxPooling2D((2, 2), padding='same')(x)\n",
        "x = tfkl.Conv2D(64, (3, 3), activation='relu', padding='same')(x)\n",
        "encoded = tfkl.MaxPooling2D((2, 2), padding='same')(x)\n",
        "\n",
        "\n",
        "x = tfkl.Conv2D(128, (3, 3), activation='relu', padding='same')(encoded)\n",
        "x = tfkl.UpSampling2D((2, 2))(x)\n",
        "x = tfkl.Conv2D(64, (3, 3), activation='relu', padding='same')(x)\n",
        "x = tfkl.UpSampling2D((2, 2))(x)\n",
        "decoded = tfkl.Conv2D(3, (3, 3), activation='sigmoid', padding='same')(x)\n",
        "\n",
        "autoencoder = tfk.Model(input_img, decoded)\n",
        "autoencoder.compile(optimizer='adam', loss='binary_crossentropy', metrics = ['accuracy'])\n",
        "\n",
        "autoencoder.summary()"
      ],
      "execution_count": 7,
      "outputs": [
        {
          "output_type": "stream",
          "text": [
            "Model: \"functional_1\"\n",
            "_________________________________________________________________\n",
            "Layer (type)                 Output Shape              Param #   \n",
            "=================================================================\n",
            "input_1 (InputLayer)         [(None, 32, 32, 3)]       0         \n",
            "_________________________________________________________________\n",
            "conv2d (Conv2D)              (None, 32, 32, 64)        1792      \n",
            "_________________________________________________________________\n",
            "max_pooling2d (MaxPooling2D) (None, 16, 16, 64)        0         \n",
            "_________________________________________________________________\n",
            "conv2d_1 (Conv2D)            (None, 16, 16, 64)        36928     \n",
            "_________________________________________________________________\n",
            "max_pooling2d_1 (MaxPooling2 (None, 8, 8, 64)          0         \n",
            "_________________________________________________________________\n",
            "conv2d_2 (Conv2D)            (None, 8, 8, 128)         73856     \n",
            "_________________________________________________________________\n",
            "up_sampling2d (UpSampling2D) (None, 16, 16, 128)       0         \n",
            "_________________________________________________________________\n",
            "conv2d_3 (Conv2D)            (None, 16, 16, 64)        73792     \n",
            "_________________________________________________________________\n",
            "up_sampling2d_1 (UpSampling2 (None, 32, 32, 64)        0         \n",
            "_________________________________________________________________\n",
            "conv2d_4 (Conv2D)            (None, 32, 32, 3)         1731      \n",
            "=================================================================\n",
            "Total params: 188,099\n",
            "Trainable params: 188,099\n",
            "Non-trainable params: 0\n",
            "_________________________________________________________________\n"
          ],
          "name": "stdout"
        }
      ]
    },
    {
      "cell_type": "code",
      "metadata": {
        "colab": {
          "base_uri": "https://localhost:8080/"
        },
        "id": "IseqhwYszoJ2",
        "outputId": "7c86cd6a-2ea9-426e-ad45-380e61134264"
      },
      "source": [
        "autoencoder.fit(x_train, x_train,\n",
        "                epochs=10,\n",
        "                batch_size=150,\n",
        "                shuffle=True,\n",
        "                steps_per_epoch = 200,\n",
        "                validation_data=(x_test, x_test))\n"
      ],
      "execution_count": 8,
      "outputs": [
        {
          "output_type": "stream",
          "text": [
            "Epoch 1/10\n",
            "200/200 [==============================] - 231s 1s/step - loss: 0.5823 - accuracy: 0.6871 - val_loss: 0.5646 - val_accuracy: 0.7776\n",
            "Epoch 2/10\n",
            "200/200 [==============================] - 236s 1s/step - loss: 0.5616 - accuracy: 0.7840 - val_loss: 0.5616 - val_accuracy: 0.7953\n",
            "Epoch 3/10\n",
            "200/200 [==============================] - 232s 1s/step - loss: 0.5593 - accuracy: 0.7998 - val_loss: 0.5589 - val_accuracy: 0.8039\n",
            "Epoch 4/10\n",
            "200/200 [==============================] - 233s 1s/step - loss: 0.5580 - accuracy: 0.8066 - val_loss: 0.5585 - val_accuracy: 0.8092\n",
            "Epoch 5/10\n",
            "200/200 [==============================] - 234s 1s/step - loss: 0.5572 - accuracy: 0.8110 - val_loss: 0.5584 - val_accuracy: 0.7879\n",
            "Epoch 6/10\n",
            "200/200 [==============================] - 233s 1s/step - loss: 0.5570 - accuracy: 0.8109 - val_loss: 0.5589 - val_accuracy: 0.8148\n",
            "Epoch 7/10\n",
            "200/200 [==============================] - 234s 1s/step - loss: 0.5559 - accuracy: 0.8142 - val_loss: 0.5579 - val_accuracy: 0.8248\n",
            "Epoch 8/10\n",
            "200/200 [==============================] - 235s 1s/step - loss: 0.5554 - accuracy: 0.8176 - val_loss: 0.5562 - val_accuracy: 0.8127\n",
            "Epoch 9/10\n",
            "200/200 [==============================] - 235s 1s/step - loss: 0.5550 - accuracy: 0.8177 - val_loss: 0.5559 - val_accuracy: 0.8253\n",
            "Epoch 10/10\n",
            "200/200 [==============================] - 234s 1s/step - loss: 0.5557 - accuracy: 0.8162 - val_loss: 0.5564 - val_accuracy: 0.8135\n"
          ],
          "name": "stdout"
        },
        {
          "output_type": "execute_result",
          "data": {
            "text/plain": [
              "<tensorflow.python.keras.callbacks.History at 0x7f5aab87f470>"
            ]
          },
          "metadata": {
            "tags": []
          },
          "execution_count": 8
        }
      ]
    },
    {
      "cell_type": "code",
      "metadata": {
        "colab": {
          "base_uri": "https://localhost:8080/",
          "height": 248
        },
        "id": "RCpbYs18TUe6",
        "outputId": "146f9a5b-62a7-48d2-8fad-7e1ac9dd27ef"
      },
      "source": [
        "pred_img = autoencoder.predict(x_test)\n",
        "# the top row is the original set of images, the bottom row is the reconstructed images from the autoencoder\n",
        "n = 10\n",
        "plt.figure(figsize=(20, 4))\n",
        "for i in range(n):\n",
        "    ax = plt.subplot(2, n, i + 1)\n",
        "    plt.imshow(x_test[i].reshape(32, 32, 3))\n",
        "    plt.gray()\n",
        "    ax.get_xaxis().set_visible(False)\n",
        "    ax.get_yaxis().set_visible(False)\n",
        "\n",
        "    ax = plt.subplot(2, n, i + 1 + n)\n",
        "    plt.imshow(pred_img[i].reshape(32, 32, 3))\n",
        "    plt.gray()\n",
        "    ax.get_xaxis().set_visible(False)\n",
        "    ax.get_yaxis().set_visible(False)\n",
        "plt.show()"
      ],
      "execution_count": 10,
      "outputs": [
        {
          "output_type": "display_data",
          "data": {
            "image/png": "[encoded data removed]",
            "text/plain": [
              "<Figure size 1440x288 with 20 Axes>"
            ]
          },
          "metadata": {
            "tags": [],
            "needs_background": "light"
          }
        }
      ]
    },
    {
      "cell_type": "markdown",
      "metadata": {
        "id": "2ykl4OAGTpg3"
      },
      "source": [
        "##**II. Image Classification**\n",
        "\n",
        "\n",
        "\n",
        "> ### 2.1  Deep CNN\n",
        "\n",
        "\n",
        "> Build a deep CNN to classify the images. Provide a brief description of the\n",
        "architectural choices you’ve made: kernel sizes, strides, padding, network\n",
        "depth.Train your network end-to-end. Report on your model’s performance on the training set and test set.\n",
        "\n"
      ]
    },
    {
      "cell_type": "code",
      "metadata": {
        "id": "QBPPoEojT2s_"
      },
      "source": [
        "(x_train, y_train), (x_test, y_test) = cifar10.load_data()"
      ],
      "execution_count": 20,
      "outputs": []
    },
    {
      "cell_type": "code",
      "metadata": {
        "id": "vjo_SOgwYiH6"
      },
      "source": [
        "x_train = x_train.reshape((x_train.shape[0], 32, 32, 3))\n",
        "x_test = x_test.reshape((x_test.shape[0], 32, 32, 3))\n"
      ],
      "execution_count": 21,
      "outputs": []
    },
    {
      "cell_type": "code",
      "metadata": {
        "id": "ronlHuI9kwbt"
      },
      "source": [
        "from tensorflow.keras.utils import to_categorical\n",
        "y_train = tfk.utils.to_categorical(y_train)\n",
        "y_test = tfk.utils.to_categorical(y_test)"
      ],
      "execution_count": 22,
      "outputs": []
    },
    {
      "cell_type": "code",
      "metadata": {
        "id": "BohleqJSlFaQ"
      },
      "source": [
        "x_train = x_train.astype('float32') / 255.\n",
        "x_train = np.reshape(x_train, (len(x_train), 32,32,3))\n",
        "\n",
        "x_test = x_test.astype('float32') / 255. \n",
        "x_test = np.reshape(x_test, (len(x_test), 32,32,3))"
      ],
      "execution_count": 23,
      "outputs": []
    },
    {
      "cell_type": "code",
      "metadata": {
        "colab": {
          "base_uri": "https://localhost:8080/",
          "height": 843,
          "referenced_widgets": [
            "ff040a5563a54ecbba9a07fa7186fd60",
            "de4ad68de79a4ff6ac44b520e70b3401",
            "45d2487df586461a908e203dd087445a",
            "b254cec4c45144b0a6736fcdbe3e5c29",
            "d7dd5e8a5cfe4abbbbb67ba57b9f2c30",
            "cd0b0b83a9804f43a3211c670fde1638",
            "654d3c37d3624dd99a5250eb4b52bf89",
            "54a847da9a444af6b12804210b2b49b2",
            "01e11230dc434975b5ac164832443689",
            "33eba275b632476cad47563f89d64d3f",
            "4ce722f450a34e3ea0cefc422396774c",
            "dc72312389cc4e25b2daa213eac6652a",
            "7b3eafe52fe946d394ba3780ff4387d6",
            "c5761e4a21624bfdbe8b561a7eb26696",
            "fa4b9d1f33864412a5723aea36fbd469",
            "8e011bbb73ab45a2bfa0d1b7292576dc",
            "dd84cc4915ba4f41b81b750bac7f77da",
            "99ba880cf2b548ac8e9c921d2cd6b406",
            "d3ceaace3a33432c914722cdca573ff8",
            "f4db3eb78a564e54a4fb478bd60c77d1",
            "6074e4f48e644d268ff69a55e2d11777",
            "477bfaa8652e4b0e807740b93db1af0a",
            "ce08c9fcbb1a44828276cb33bea0f290",
            "74773236c3434b109bd15a9937d19dd3",
            "a13c8dd3fc294491bee70649f4b43769",
            "0e008f326a1c45f89cacecaee1b4a6ee",
            "fdded96d50944948876509e9329cc7bb",
            "327b274da2944af8a329b9c75f26ed7a",
            "476bb91a153744b3a48e3b0b51a91b70",
            "6fbdf26c2eda49d186fff26561d4c02c",
            "54e8991e729d4b9dbfa2e2cb0980baa1",
            "5e13d92f3fe84df29cc3d347f9fbe846",
            "95b4da962fed4182a4a54f70519bb073",
            "97c0712f348d49d7992e7e06a123cb85",
            "d79f8173ef1f4003a1b139ba5a51b76c",
            "e588a54b31be43039b3ca63260e7a9c3",
            "a698c42b60464990b40fe839de2ca343",
            "365dc33b976b4bda8951675f463f6e07",
            "7e7ab08d466c450688e57911f1da86e8",
            "db68414e54d84586939cdbed52d57c46",
            "41065d4a1a8c4688aeeb59b872fd514d",
            "0294d3ec3bd44f4fb4ff0934cebdce2e",
            "cef24e27a69b427bb09e32173b7c435c",
            "ccf0e3d4efe448aa96a846ffecd98994",
            "64a63132570a43ba9bb444e7014c5324",
            "2ee04ff4f83e44e692a23db6a9ffb3e0",
            "c627850523044d5784431f81061659b8",
            "c2aab4f9fa2b480d99b5487279c9c4b7",
            "8584b1f8869f470783483650ee1665ab",
            "96d40cb5bff940b1a0bcfc62a6295d9b",
            "bd8abfbae25b4e44a78ba9d530f82c75",
            "fd2cb2519e0545cea556219a158114c2",
            "0d48201409c84742a1fe103be6c8dda2",
            "f3fa10af6cf647729419fd1399212dc8",
            "859f55f458fa4c9dba1333b6d1e595e0",
            "6f1e62298f5b4fd09b57dd5bf6752d85"
          ]
        },
        "id": "b0xMWY7WYiPM",
        "outputId": "563b9c79-ac86-4ebf-a20c-f581640e23dd"
      },
      "source": [
        "data, info = tfds.load('cifar10', with_info=True)\n",
        "img_shape = info.features['image'].shape\n",
        "img_shape\n",
        "\n",
        "input_img = Input(shape=(32, 32, 3))\n",
        "\n",
        "x = Conv2D(128, (3, 3), activation='relu', padding='same')(input_img)\n",
        "x = MaxPooling2D((2, 2), padding='same')(x)\n",
        "x = Conv2D(64, (3, 3), activation='relu', padding='same')(x)\n",
        "x = MaxPooling2D((2, 2), padding='same')(x)\n",
        "x = Conv2D(16, (3, 3), activation='relu', padding='same')(x)\n",
        "encoded = MaxPooling2D((2, 2), padding='same')(x)\n",
        "\n",
        "x = Flatten()(encoded)\n",
        "x = Dense(100, activation='relu')(x)\n",
        "decoded = Dense(10, activation='softmax')(x)\n",
        "\n",
        "deep_cnn = tfk.Model(input_img, decoded)\n",
        "deep_cnn.summary()\n"
      ],
      "execution_count": 24,
      "outputs": [
        {
          "output_type": "stream",
          "text": [
            "\u001b[1mDownloading and preparing dataset cifar10/3.0.2 (download: 162.17 MiB, generated: 132.40 MiB, total: 294.58 MiB) to /root/tensorflow_datasets/cifar10/3.0.2...\u001b[0m\n"
          ],
          "name": "stdout"
        },
        {
          "output_type": "display_data",
          "data": {
            "application/vnd.jupyter.widget-view+json": {
              "model_id": "ff040a5563a54ecbba9a07fa7186fd60",
              "version_minor": 0,
              "version_major": 2
            },
            "text/plain": [
              "HBox(children=(FloatProgress(value=1.0, bar_style='info', description='Dl Completed...', max=1.0, style=Progre…"
            ]
          },
          "metadata": {
            "tags": []
          }
        },
        {
          "output_type": "display_data",
          "data": {
            "application/vnd.jupyter.widget-view+json": {
              "model_id": "01e11230dc434975b5ac164832443689",
              "version_minor": 0,
              "version_major": 2
            },
            "text/plain": [
              "HBox(children=(FloatProgress(value=1.0, bar_style='info', description='Dl Size...', max=1.0, style=ProgressSty…"
            ]
          },
          "metadata": {
            "tags": []
          }
        },
        {
          "output_type": "display_data",
          "data": {
            "application/vnd.jupyter.widget-view+json": {
              "model_id": "dd84cc4915ba4f41b81b750bac7f77da",
              "version_minor": 0,
              "version_major": 2
            },
            "text/plain": [
              "HBox(children=(FloatProgress(value=1.0, bar_style='info', description='Extraction completed...', max=1.0, styl…"
            ]
          },
          "metadata": {
            "tags": []
          }
        },
        {
          "output_type": "stream",
          "text": [
            "\n",
            "\n",
            "\n",
            "\n",
            "\n",
            "\n"
          ],
          "name": "stdout"
        },
        {
          "output_type": "display_data",
          "data": {
            "application/vnd.jupyter.widget-view+json": {
              "model_id": "a13c8dd3fc294491bee70649f4b43769",
              "version_minor": 0,
              "version_major": 2
            },
            "text/plain": [
              "HBox(children=(FloatProgress(value=1.0, bar_style='info', max=1.0), HTML(value='')))"
            ]
          },
          "metadata": {
            "tags": []
          }
        },
        {
          "output_type": "stream",
          "text": [
            "\rShuffling and writing examples to /root/tensorflow_datasets/cifar10/3.0.2.incompleteU6B2WP/cifar10-train.tfrecord\n"
          ],
          "name": "stdout"
        },
        {
          "output_type": "display_data",
          "data": {
            "application/vnd.jupyter.widget-view+json": {
              "model_id": "95b4da962fed4182a4a54f70519bb073",
              "version_minor": 0,
              "version_major": 2
            },
            "text/plain": [
              "HBox(children=(FloatProgress(value=0.0, max=50000.0), HTML(value='')))"
            ]
          },
          "metadata": {
            "tags": []
          }
        },
        {
          "output_type": "stream",
          "text": [
            "\r"
          ],
          "name": "stdout"
        },
        {
          "output_type": "display_data",
          "data": {
            "application/vnd.jupyter.widget-view+json": {
              "model_id": "41065d4a1a8c4688aeeb59b872fd514d",
              "version_minor": 0,
              "version_major": 2
            },
            "text/plain": [
              "HBox(children=(FloatProgress(value=1.0, bar_style='info', max=1.0), HTML(value='')))"
            ]
          },
          "metadata": {
            "tags": []
          }
        },
        {
          "output_type": "stream",
          "text": [
            "\rShuffling and writing examples to /root/tensorflow_datasets/cifar10/3.0.2.incompleteU6B2WP/cifar10-test.tfrecord\n"
          ],
          "name": "stdout"
        },
        {
          "output_type": "display_data",
          "data": {
            "application/vnd.jupyter.widget-view+json": {
              "model_id": "8584b1f8869f470783483650ee1665ab",
              "version_minor": 0,
              "version_major": 2
            },
            "text/plain": [
              "HBox(children=(FloatProgress(value=0.0, max=10000.0), HTML(value='')))"
            ]
          },
          "metadata": {
            "tags": []
          }
        },
        {
          "output_type": "stream",
          "text": [
            "\u001b[1mDataset cifar10 downloaded and prepared to /root/tensorflow_datasets/cifar10/3.0.2. Subsequent calls will reuse this data.\u001b[0m\n",
            "\rModel: \"functional_3\"\n",
            "_________________________________________________________________\n",
            "Layer (type)                 Output Shape              Param #   \n",
            "=================================================================\n",
            "input_3 (InputLayer)         [(None, 32, 32, 3)]       0         \n",
            "_________________________________________________________________\n",
            "conv2d_5 (Conv2D)            (None, 32, 32, 128)       3584      \n",
            "_________________________________________________________________\n",
            "max_pooling2d_2 (MaxPooling2 (None, 16, 16, 128)       0         \n",
            "_________________________________________________________________\n",
            "conv2d_6 (Conv2D)            (None, 16, 16, 64)        73792     \n",
            "_________________________________________________________________\n",
            "max_pooling2d_3 (MaxPooling2 (None, 8, 8, 64)          0         \n",
            "_________________________________________________________________\n",
            "conv2d_7 (Conv2D)            (None, 8, 8, 16)          9232      \n",
            "_________________________________________________________________\n",
            "max_pooling2d_4 (MaxPooling2 (None, 4, 4, 16)          0         \n",
            "_________________________________________________________________\n",
            "flatten_1 (Flatten)          (None, 256)               0         \n",
            "_________________________________________________________________\n",
            "dense_2 (Dense)              (None, 100)               25700     \n",
            "_________________________________________________________________\n",
            "dense_3 (Dense)              (None, 10)                1010      \n",
            "=================================================================\n",
            "Total params: 113,318\n",
            "Trainable params: 113,318\n",
            "Non-trainable params: 0\n",
            "_________________________________________________________________\n"
          ],
          "name": "stdout"
        }
      ]
    },
    {
      "cell_type": "code",
      "metadata": {
        "colab": {
          "base_uri": "https://localhost:8080/"
        },
        "id": "lCF1kwtbhJzr",
        "outputId": "b76593bd-545a-4986-c9b6-3a96a36a4d7b"
      },
      "source": [
        "deep_cnn.compile(optimizer = 'adam', loss='categorical_crossentropy', metrics=['accuracy'])\n",
        "deep_cnn.fit(x_train, y_train,\n",
        "                epochs=10,\n",
        "                batch_size=500,\n",
        "                shuffle=True,\n",
        "                validation_data=(x_test, y_test))"
      ],
      "execution_count": 85,
      "outputs": [
        {
          "output_type": "stream",
          "text": [
            "Epoch 1/10\n",
            "100/100 [==============================] - 225s 2s/step - loss: 1.8436 - accuracy: 0.3299 - val_loss: 1.5576 - val_accuracy: 0.4350\n",
            "Epoch 2/10\n",
            "100/100 [==============================] - 228s 2s/step - loss: 1.4813 - accuracy: 0.4629 - val_loss: 1.3918 - val_accuracy: 0.4975\n",
            "Epoch 3/10\n",
            "100/100 [==============================] - 225s 2s/step - loss: 1.3729 - accuracy: 0.5065 - val_loss: 1.3093 - val_accuracy: 0.5323\n",
            "Epoch 4/10\n",
            "100/100 [==============================] - 225s 2s/step - loss: 1.2651 - accuracy: 0.5479 - val_loss: 1.2275 - val_accuracy: 0.5638\n",
            "Epoch 5/10\n",
            "100/100 [==============================] - 227s 2s/step - loss: 1.1996 - accuracy: 0.5770 - val_loss: 1.1746 - val_accuracy: 0.5849\n",
            "Epoch 6/10\n",
            "100/100 [==============================] - 225s 2s/step - loss: 1.1464 - accuracy: 0.5977 - val_loss: 1.1431 - val_accuracy: 0.5957\n",
            "Epoch 7/10\n",
            "100/100 [==============================] - 228s 2s/step - loss: 1.1022 - accuracy: 0.6129 - val_loss: 1.0848 - val_accuracy: 0.6191\n",
            "Epoch 8/10\n",
            "100/100 [==============================] - 226s 2s/step - loss: 1.0470 - accuracy: 0.6345 - val_loss: 1.0588 - val_accuracy: 0.6240\n",
            "Epoch 9/10\n",
            "100/100 [==============================] - 226s 2s/step - loss: 1.0164 - accuracy: 0.6465 - val_loss: 1.0452 - val_accuracy: 0.6358\n",
            "Epoch 10/10\n",
            "100/100 [==============================] - 227s 2s/step - loss: 0.9843 - accuracy: 0.6566 - val_loss: 1.0220 - val_accuracy: 0.6405\n"
          ],
          "name": "stdout"
        },
        {
          "output_type": "execute_result",
          "data": {
            "text/plain": [
              "<tensorflow.python.keras.callbacks.History at 0x7f585dbe4d68>"
            ]
          },
          "metadata": {
            "tags": []
          },
          "execution_count": 85
        }
      ]
    },
    {
      "cell_type": "code",
      "metadata": {
        "colab": {
          "base_uri": "https://localhost:8080/"
        },
        "id": "zAbroi0Cr5Wn",
        "outputId": "dfdefdb1-e258-4feb-b846-f70410fd7813"
      },
      "source": [
        "_, acc = deep_cnn.evaluate(x_test, y_test, verbose=0)\n",
        "print('> %.3f' % (acc * 100.0))"
      ],
      "execution_count": 83,
      "outputs": [
        {
          "output_type": "stream",
          "text": [
            "> 64.900\n"
          ],
          "name": "stdout"
        }
      ]
    },
    {
      "cell_type": "code",
      "metadata": {
        "colab": {
          "base_uri": "https://localhost:8080/"
        },
        "id": "vn8aGDdJrr3H",
        "outputId": "c7804fb8-dba9-4a1f-995c-fc34f359683f"
      },
      "source": [
        "print(\"The model's accuracy score on training set:\\n\")\n",
        "score_train = deep_cnn.evaluate(x_train, y_train, verbose=0)\n",
        "print(score_train[1])\n",
        "print(\"The model's accuracy score on test set:\\n\")\n",
        "test_images = np.array(list(map(lambda x: np.resize(x, (48,48,3)), x_test)))\n",
        "score_test = deep_cnn.evaluate(x_test, y_test, verbose=0)\n",
        "print(score_test[1])"
      ],
      "execution_count": 96,
      "outputs": [
        {
          "output_type": "stream",
          "text": [
            "The model's accuracy score on training set:\n",
            "\n",
            "0.6586599946022034\n",
            "The model's accuracy score on test set:\n",
            "\n",
            "0.640500009059906\n"
          ],
          "name": "stdout"
        }
      ]
    },
    {
      "cell_type": "markdown",
      "metadata": {
        "id": "9l-Be4GylNs6"
      },
      "source": [
        "## 2.2 Transfer Learning\n",
        "\n",
        "\n",
        "> Repeat the same task, but this time utilize a pre-trained network for the majority of your model. You should only train the final Dense layer, all other weights should be fixed. You can use whichever pre-trained backbone you like (ResNet, VGG, etc). Report on your model’s performance on the training set and test set.\n",
        "\n"
      ]
    },
    {
      "cell_type": "code",
      "metadata": {
        "id": "9r1ALqr5lYPD"
      },
      "source": [
        "from keras.applications import VGG16\n"
      ],
      "execution_count": 11,
      "outputs": []
    },
    {
      "cell_type": "code",
      "metadata": {
        "colab": {
          "base_uri": "https://localhost:8080/"
        },
        "id": "cWAiOlliwkSE",
        "outputId": "69a0f494-08a6-4ace-dabc-3de3d3206a54"
      },
      "source": [
        "\n",
        "conv_base = VGG16(weights = 'imagenet', include_top = False, input_shape = (32,32,3))\n",
        "conv_base.summary()"
      ],
      "execution_count": 12,
      "outputs": [
        {
          "output_type": "stream",
          "text": [
            "Downloading data from https://storage.googleapis.com/tensorflow/keras-applications/vgg16/vgg16_weights_tf_dim_ordering_tf_kernels_notop.h5\n",
            "58892288/58889256 [==============================] - 3s 0us/step\n",
            "Model: \"vgg16\"\n",
            "_________________________________________________________________\n",
            "Layer (type)                 Output Shape              Param #   \n",
            "=================================================================\n",
            "input_2 (InputLayer)         [(None, 32, 32, 3)]       0         \n",
            "_________________________________________________________________\n",
            "block1_conv1 (Conv2D)        (None, 32, 32, 64)        1792      \n",
            "_________________________________________________________________\n",
            "block1_conv2 (Conv2D)        (None, 32, 32, 64)        36928     \n",
            "_________________________________________________________________\n",
            "block1_pool (MaxPooling2D)   (None, 16, 16, 64)        0         \n",
            "_________________________________________________________________\n",
            "block2_conv1 (Conv2D)        (None, 16, 16, 128)       73856     \n",
            "_________________________________________________________________\n",
            "block2_conv2 (Conv2D)        (None, 16, 16, 128)       147584    \n",
            "_________________________________________________________________\n",
            "block2_pool (MaxPooling2D)   (None, 8, 8, 128)         0         \n",
            "_________________________________________________________________\n",
            "block3_conv1 (Conv2D)        (None, 8, 8, 256)         295168    \n",
            "_________________________________________________________________\n",
            "block3_conv2 (Conv2D)        (None, 8, 8, 256)         590080    \n",
            "_________________________________________________________________\n",
            "block3_conv3 (Conv2D)        (None, 8, 8, 256)         590080    \n",
            "_________________________________________________________________\n",
            "block3_pool (MaxPooling2D)   (None, 4, 4, 256)         0         \n",
            "_________________________________________________________________\n",
            "block4_conv1 (Conv2D)        (None, 4, 4, 512)         1180160   \n",
            "_________________________________________________________________\n",
            "block4_conv2 (Conv2D)        (None, 4, 4, 512)         2359808   \n",
            "_________________________________________________________________\n",
            "block4_conv3 (Conv2D)        (None, 4, 4, 512)         2359808   \n",
            "_________________________________________________________________\n",
            "block4_pool (MaxPooling2D)   (None, 2, 2, 512)         0         \n",
            "_________________________________________________________________\n",
            "block5_conv1 (Conv2D)        (None, 2, 2, 512)         2359808   \n",
            "_________________________________________________________________\n",
            "block5_conv2 (Conv2D)        (None, 2, 2, 512)         2359808   \n",
            "_________________________________________________________________\n",
            "block5_conv3 (Conv2D)        (None, 2, 2, 512)         2359808   \n",
            "_________________________________________________________________\n",
            "block5_pool (MaxPooling2D)   (None, 1, 1, 512)         0         \n",
            "=================================================================\n",
            "Total params: 14,714,688\n",
            "Trainable params: 14,714,688\n",
            "Non-trainable params: 0\n",
            "_________________________________________________________________\n"
          ],
          "name": "stdout"
        }
      ]
    },
    {
      "cell_type": "code",
      "metadata": {
        "colab": {
          "base_uri": "https://localhost:8080/"
        },
        "id": "iJ1_ZzMAryzY",
        "outputId": "a8b2318a-6f3e-4584-e01c-40d103b6fa91"
      },
      "source": [
        "model = tfk.models.Sequential()\n",
        "model.add(conv_base)\n",
        "model.add(tfkl.Flatten())\n",
        "model.add(tfkl.Dense(64, activation='relu'))\n",
        "model.add(tfkl.Dropout(0.5))\n",
        "model.add(tfkl.Dense(10, activation='softmax'))\n",
        "\n",
        "# Freeze the convolutional base\n",
        "print('This is the number of trainable weights before freezing the conv base:', len(model.trainable_weights))\n",
        "conv_base.trainable = False\n",
        "print('This is the number of trainable weights after freezing the conv base:', len(model.trainable_weights))\n"
      ],
      "execution_count": 14,
      "outputs": [
        {
          "output_type": "stream",
          "text": [
            "This is the number of trainable weights before freezing the conv base: 30\n",
            "This is the number of trainable weights after freezing the conv base: 4\n"
          ],
          "name": "stdout"
        }
      ]
    },
    {
      "cell_type": "code",
      "metadata": {
        "colab": {
          "base_uri": "https://localhost:8080/"
        },
        "id": "jsXu0jTStz05",
        "outputId": "ae422352-19e3-4774-9659-6e21b4287fe8"
      },
      "source": [
        "model.summary()\n",
        "\n",
        "train_images = np.array(list(map(lambda x: np.resize(x, (32,32,3)), x_train)))\n",
        "train_images.shape"
      ],
      "execution_count": 25,
      "outputs": [
        {
          "output_type": "stream",
          "text": [
            "Model: \"sequential_1\"\n",
            "_________________________________________________________________\n",
            "Layer (type)                 Output Shape              Param #   \n",
            "=================================================================\n",
            "vgg16 (Functional)           (None, 1, 1, 512)         14714688  \n",
            "_________________________________________________________________\n",
            "flatten (Flatten)            (None, 512)               0         \n",
            "_________________________________________________________________\n",
            "dense (Dense)                (None, 64)                32832     \n",
            "_________________________________________________________________\n",
            "dropout (Dropout)            (None, 64)                0         \n",
            "_________________________________________________________________\n",
            "dense_1 (Dense)              (None, 10)                650       \n",
            "=================================================================\n",
            "Total params: 14,748,170\n",
            "Trainable params: 33,482\n",
            "Non-trainable params: 14,714,688\n",
            "_________________________________________________________________\n"
          ],
          "name": "stdout"
        },
        {
          "output_type": "execute_result",
          "data": {
            "text/plain": [
              "(50000, 32, 32, 3)"
            ]
          },
          "metadata": {
            "tags": []
          },
          "execution_count": 25
        }
      ]
    },
    {
      "cell_type": "code",
      "metadata": {
        "colab": {
          "base_uri": "https://localhost:8080/"
        },
        "id": "5S9lrOLM5Dbr",
        "outputId": "112ac198-a0e1-424f-ee8c-06d208044fa2"
      },
      "source": [
        "model.compile(optimizer='rmsprop',\n",
        "              loss='categorical_crossentropy',\n",
        "              metrics=['accuracy'])\n",
        "model.fit(train_images, y_train, epochs=5, batch_size=64)"
      ],
      "execution_count": 27,
      "outputs": [
        {
          "output_type": "stream",
          "text": [
            "Epoch 1/5\n",
            "782/782 [==============================] - 489s 625ms/step - loss: 1.3299 - accuracy: 0.5463\n",
            "Epoch 2/5\n",
            "782/782 [==============================] - 493s 630ms/step - loss: 1.3136 - accuracy: 0.5498\n",
            "Epoch 3/5\n",
            "782/782 [==============================] - 484s 620ms/step - loss: 1.3095 - accuracy: 0.5516\n",
            "Epoch 4/5\n",
            "782/782 [==============================] - 482s 616ms/step - loss: 1.2969 - accuracy: 0.5584\n",
            "Epoch 5/5\n",
            "782/782 [==============================] - 488s 624ms/step - loss: 1.3007 - accuracy: 0.5579\n"
          ],
          "name": "stdout"
        },
        {
          "output_type": "execute_result",
          "data": {
            "text/plain": [
              "<tensorflow.python.keras.callbacks.History at 0x7f5aabed2748>"
            ]
          },
          "metadata": {
            "tags": []
          },
          "execution_count": 27
        }
      ]
    },
    {
      "cell_type": "code",
      "metadata": {
        "colab": {
          "base_uri": "https://localhost:8080/"
        },
        "id": "Zi-DlX62Mv2A",
        "outputId": "729093ac-fb83-4de9-a8d8-24ec174e42e5"
      },
      "source": [
        "print(\"The model's accuracy score on training set:\\n\")\n",
        "score_train = model.evaluate(train_images, y_train, verbose=0)\n",
        "print(score_train[1])\n",
        "print(\"The model's accuracy score on test set:\\n\")\n",
        "test_images = np.array(list(map(lambda x: np.resize(x, (32,32,3)), x_test)))\n",
        "score_test = model.evaluate(x_test, y_test, verbose=0)\n",
        "print(score_test[1])"
      ],
      "execution_count": 28,
      "outputs": [
        {
          "output_type": "stream",
          "text": [
            "The model's accuracy score on training set:\n",
            "\n",
            "0.6167200207710266\n",
            "The model's accuracy score on test set:\n",
            "\n",
            "0.5853000283241272\n"
          ],
          "name": "stdout"
        }
      ]
    },
    {
      "cell_type": "markdown",
      "metadata": {
        "id": "iNRsXgF9twHw"
      },
      "source": [
        "## **III. Text Classification**"
      ]
    },
    {
      "cell_type": "markdown",
      "metadata": {
        "id": "jaAvaPclvGXQ"
      },
      "source": [
        "\n",
        "\n",
        "> While images contain local spatial correlations and structure, many other datasets contain temporal correlations. Examples include time series and discrete sequences such as text. In this problem, we will tackle the task of text classification in the context of natural language background. \n",
        "\n",
        "> In this problem, we will build models that read text segments\n",
        "(messages) and identify whether they are SPAM or HAM.\n",
        "Wikipedia describes SPAM as “the use of electronic messaging systems to send unsolicited bulk messages, especially advertising, indiscriminately.” The term ‘HAM’ was originally coined by SpamBayes sometime around 2001 and is currently defined and understood to be “E-mail that is generally desired and isn’t considered SPAM.”\n",
        "\n",
        "> Dataset. The dataset consists of ∼ 5500 messages along with binary labels(SPAM or HAM) and is already preprocessed. So basically each sample is\n",
        "like [MESSAGE, LABEL]\n",
        "\n",
        "\n",
        "\n"
      ]
    },
    {
      "cell_type": "markdown",
      "metadata": {
        "id": "0qHq1vVjt_HI"
      },
      "source": [
        "\n",
        "\n",
        "> ## 3.1 RNN\n",
        "Build and train a Recurrent Neural Network to solve this text classification\n",
        "task. You can use any type of RNN you wish (SimpleRNN, GRU, LSTM).\n",
        "\n"
      ]
    },
    {
      "cell_type": "code",
      "metadata": {
        "colab": {
          "base_uri": "https://localhost:8080/",
          "height": 35
        },
        "id": "et8pacUSGxYf",
        "outputId": "1976e842-c64a-4488-b426-93b4aea2ebaa"
      },
      "source": [
        "import os\n",
        "from keras.preprocessing.text import Tokenizer, one_hot\n",
        "from tensorflow.keras.preprocessing.sequence import pad_sequences\n",
        "from sklearn.model_selection import train_test_split\n",
        "from tensorflow.keras.layers import Embedding, SpatialDropout1D, LSTM, SimpleRNN, GlobalMaxPooling1D\n",
        "from tensorflow.keras.callbacks import EarlyStopping\n",
        "os.getcwd()"
      ],
      "execution_count": 35,
      "outputs": [
        {
          "output_type": "execute_result",
          "data": {
            "application/vnd.google.colaboratory.intrinsic+json": {
              "type": "string"
            },
            "text/plain": [
              "'/content'"
            ]
          },
          "metadata": {
            "tags": []
          },
          "execution_count": 35
        }
      ]
    },
    {
      "cell_type": "code",
      "metadata": {
        "colab": {
          "base_uri": "https://localhost:8080/",
          "height": 204
        },
        "id": "8hWeXTz0vE4f",
        "outputId": "0ff09a52-6397-480a-f133-8928ff1ab16b"
      },
      "source": [
        "spam = pd.read_csv('SPAM_detection.csv') \n",
        "spam.head()\n",
        "# 1 is SPAM 0 is HAM"
      ],
      "execution_count": 8,
      "outputs": [
        {
          "output_type": "execute_result",
          "data": {
            "text/html": [
              "<div>\n",
              "<style scoped>\n",
              "    .dataframe tbody tr th:only-of-type {\n",
              "        vertical-align: middle;\n",
              "    }\n",
              "\n",
              "    .dataframe tbody tr th {\n",
              "        vertical-align: top;\n",
              "    }\n",
              "\n",
              "    .dataframe thead th {\n",
              "        text-align: right;\n",
              "    }\n",
              "</style>\n",
              "<table border=\"1\" class=\"dataframe\">\n",
              "  <thead>\n",
              "    <tr style=\"text-align: right;\">\n",
              "      <th></th>\n",
              "      <th>Message</th>\n",
              "      <th>category_val</th>\n",
              "    </tr>\n",
              "  </thead>\n",
              "  <tbody>\n",
              "    <tr>\n",
              "      <th>0</th>\n",
              "      <td>Go until jurong point, crazy.. Available only ...</td>\n",
              "      <td>0</td>\n",
              "    </tr>\n",
              "    <tr>\n",
              "      <th>1</th>\n",
              "      <td>Ok lar... Joking wif u oni...</td>\n",
              "      <td>0</td>\n",
              "    </tr>\n",
              "    <tr>\n",
              "      <th>2</th>\n",
              "      <td>Free entry in 2 a wkly comp to win FA Cup fina...</td>\n",
              "      <td>1</td>\n",
              "    </tr>\n",
              "    <tr>\n",
              "      <th>3</th>\n",
              "      <td>U dun say so early hor... U c already then say...</td>\n",
              "      <td>0</td>\n",
              "    </tr>\n",
              "    <tr>\n",
              "      <th>4</th>\n",
              "      <td>Nah I don't think he goes to usf, he lives aro...</td>\n",
              "      <td>0</td>\n",
              "    </tr>\n",
              "  </tbody>\n",
              "</table>\n",
              "</div>"
            ],
            "text/plain": [
              "                                             Message  category_val\n",
              "0  Go until jurong point, crazy.. Available only ...             0\n",
              "1                      Ok lar... Joking wif u oni...             0\n",
              "2  Free entry in 2 a wkly comp to win FA Cup fina...             1\n",
              "3  U dun say so early hor... U c already then say...             0\n",
              "4  Nah I don't think he goes to usf, he lives aro...             0"
            ]
          },
          "metadata": {
            "tags": []
          },
          "execution_count": 8
        }
      ]
    },
    {
      "cell_type": "code",
      "metadata": {
        "id": "ZG9yHy55Dg5q"
      },
      "source": [
        "# The maximum number of words to be used. (most frequent)\n",
        "MAX_NB_WORDS = 50000\n",
        "# Max number of words in each complaint.\n",
        "MAX_SEQUENCE_LENGTH = 250\n",
        "# This is fixed.\n",
        "EMBEDDING_DIM = 100"
      ],
      "execution_count": 9,
      "outputs": []
    },
    {
      "cell_type": "code",
      "metadata": {
        "id": "Xf6ywMv2tOXf"
      },
      "source": [
        "spam_data = spam['Message']\n",
        "cat_data = spam['category_val']"
      ],
      "execution_count": 10,
      "outputs": []
    },
    {
      "cell_type": "code",
      "metadata": {
        "colab": {
          "base_uri": "https://localhost:8080/"
        },
        "id": "HGukl5opnyDW",
        "outputId": "e72afa1c-4115-4b01-d4a0-6ef87e33e453"
      },
      "source": [
        "max_features = 10000\n",
        "maxlen = 500\n",
        "# cut off the words after seeing 500 words in each document(email)\n",
        "tokenizer = Tokenizer()\n",
        "\n",
        "tokenizer.fit_on_texts(spam_data)\n",
        "sequences = tokenizer.texts_to_sequences(spam_data)\n",
        "\n",
        "word_index = tokenizer.word_index\n",
        "print(\"Found {0} unique words: \".format(len(word_index)))\n",
        "\n",
        "data = pad_sequences(sequences, maxlen=maxlen)\n",
        "\n",
        "print(\"data shape: \", data.shape)\n",
        "\n",
        "np.random.seed(42)\n",
        "# shuffle data\n",
        "indices = np.arange(data.shape[0])\n",
        "np.random.shuffle(indices)\n",
        "data = data[indices]\n",
        "labels = cat_data[indices]"
      ],
      "execution_count": 18,
      "outputs": [
        {
          "output_type": "stream",
          "text": [
            "Found 9004 unique words: \n",
            "data shape:  (5572, 500)\n"
          ],
          "name": "stdout"
        }
      ]
    },
    {
      "cell_type": "code",
      "metadata": {
        "id": "i9iquFvXcVAQ"
      },
      "source": [
        "training_samples = int(5572 * .8)\n",
        "validation_samples = int(5572 - training_samples)\n",
        "\n",
        "texts_train = data[:training_samples]\n",
        "y_train = labels[:training_samples]\n",
        "texts_test = data[training_samples:]\n",
        "y_test = labels[training_samples:]"
      ],
      "execution_count": 19,
      "outputs": []
    },
    {
      "cell_type": "code",
      "metadata": {
        "colab": {
          "base_uri": "https://localhost:8080/"
        },
        "id": "McAc9NKP40d0",
        "outputId": "6dee8a6e-9dda-48fa-9da8-ad2b3703c4cd"
      },
      "source": [
        "model = Sequential()\n",
        "model.add(Embedding(max_features, 32))\n",
        "model.add(LSTM(32))\n",
        "model.add(Dense(1, activation='sigmoid'))\n",
        "\n",
        "model.compile(optimizer='rmsprop', loss='binary_crossentropy', metrics=['acc'])\n",
        "history_rnn = model.fit(texts_train, y_train, epochs=10, batch_size=60, validation_split=0.2)"
      ],
      "execution_count": 23,
      "outputs": [
        {
          "output_type": "stream",
          "text": [
            "Epoch 1/10\n",
            "60/60 [==============================] - 14s 231ms/step - loss: 0.3083 - acc: 0.8760 - val_loss: 0.1506 - val_acc: 0.9507\n",
            "Epoch 2/10\n",
            "60/60 [==============================] - 14s 236ms/step - loss: 0.0996 - acc: 0.9781 - val_loss: 0.0840 - val_acc: 0.9832\n",
            "Epoch 3/10\n",
            "60/60 [==============================] - 14s 238ms/step - loss: 0.0484 - acc: 0.9910 - val_loss: 0.0508 - val_acc: 0.9865\n",
            "Epoch 4/10\n",
            "60/60 [==============================] - 14s 237ms/step - loss: 0.0419 - acc: 0.9905 - val_loss: 0.0570 - val_acc: 0.9821\n",
            "Epoch 5/10\n",
            "60/60 [==============================] - 14s 237ms/step - loss: 0.0214 - acc: 0.9952 - val_loss: 0.0594 - val_acc: 0.9809\n",
            "Epoch 6/10\n",
            "60/60 [==============================] - 14s 237ms/step - loss: 0.0142 - acc: 0.9966 - val_loss: 0.0491 - val_acc: 0.9843\n",
            "Epoch 7/10\n",
            "60/60 [==============================] - 14s 237ms/step - loss: 0.0113 - acc: 0.9966 - val_loss: 0.0537 - val_acc: 0.9854\n",
            "Epoch 8/10\n",
            "60/60 [==============================] - 14s 236ms/step - loss: 0.0212 - acc: 0.9935 - val_loss: 0.0507 - val_acc: 0.9843\n",
            "Epoch 9/10\n",
            "60/60 [==============================] - 14s 237ms/step - loss: 0.0046 - acc: 0.9983 - val_loss: 0.0566 - val_acc: 0.9832\n",
            "Epoch 10/10\n",
            "60/60 [==============================] - 14s 241ms/step - loss: 0.0076 - acc: 0.9972 - val_loss: 0.0591 - val_acc: 0.9832\n"
          ],
          "name": "stdout"
        }
      ]
    },
    {
      "cell_type": "code",
      "metadata": {
        "colab": {
          "base_uri": "https://localhost:8080/"
        },
        "id": "Came5prQFMLw",
        "outputId": "d1a7d94d-0f73-430d-907a-54064cd40ecb"
      },
      "source": [
        "\n",
        "acc = model.evaluate(texts_test, y_test)\n",
        "print(\"Test loss is {0:.2f} accuracy is {1:.2f}  \".format(acc[0],acc[1]))"
      ],
      "execution_count": 24,
      "outputs": [
        {
          "output_type": "stream",
          "text": [
            "35/35 [==============================] - 1s 33ms/step - loss: 0.0745 - acc: 0.9812\n",
            "Test loss is 0.07 accuracy is 0.98  \n"
          ],
          "name": "stdout"
        }
      ]
    },
    {
      "cell_type": "code",
      "metadata": {
        "id": "Wve8-3YWGDJt"
      },
      "source": [
        "y_pred1 = model.predict(texts_test)\n",
        "fpr1, tpr1, thresholds1 = roc_curve(y_test,y_pred1)"
      ],
      "execution_count": 25,
      "outputs": []
    },
    {
      "cell_type": "markdown",
      "metadata": {
        "id": "nTvOX4Zws9fq"
      },
      "source": [
        "## 3.2 CNN\n",
        "\n",
        "\n",
        "> Build and train a 1D CNN for this text classification task. We recommend\n",
        "you do a character-level convolution (with character embeddings). You might gain some insight and inspiration from these text classification approaches.\n",
        "\n",
        "> Tips: after splitting every character in each training sample, the maximum length of training samples can be really big. If you choose to only do the padding trick to all the samples, it might raise OOM issues. So instead of padding only, you can also cut each sample at a certain point, which can make\n",
        "training more efficient and feasible while using CNN.\n",
        "\n"
      ]
    },
    {
      "cell_type": "code",
      "metadata": {
        "id": "5VMHpEoztZ2G"
      },
      "source": [
        "spamd = pd.read_csv('SPAM_detection.csv')"
      ],
      "execution_count": 27,
      "outputs": []
    },
    {
      "cell_type": "code",
      "metadata": {
        "id": "ynEAx70wtPRA"
      },
      "source": [
        "import re\n",
        "# lowercase and remove punct\n",
        "spamd.Message = spamd.Message.apply(lambda x: x.lower())\n",
        "spamd.Message = spamd.Message.apply(lambda x: re.sub(r'[^\\w\\s]','',x) )"
      ],
      "execution_count": 28,
      "outputs": []
    },
    {
      "cell_type": "code",
      "metadata": {
        "id": "q9L11h_ttgCd"
      },
      "source": [
        "# split each message by character ahead of tokenizing\n",
        "\n",
        "def concat_list(l):\n",
        "  concat = ''\n",
        "  for word in l:\n",
        "      concat += word + ' '\n",
        "  return concat\n",
        "\n",
        "spamd.Message = [concat_list(data) for data in spamd.Message]"
      ],
      "execution_count": 29,
      "outputs": []
    },
    {
      "cell_type": "code",
      "metadata": {
        "id": "MWgCoyOktlSE"
      },
      "source": [
        "\n",
        "# set up the character level tokenizer to preprocess the data\n",
        "\n",
        "from keras.preprocessing import text as keras_text, sequence as keras_seq\n",
        "\n",
        "tokenizer2 = Tokenizer(filters ='!\"#$%&()*+,-./:;<=>?@[\\]^_`{|}~', lower=True,char_level = True, oov_token =True)\n",
        "tokenizer2.fit_on_texts(spamd.Message.values)"
      ],
      "execution_count": 30,
      "outputs": []
    },
    {
      "cell_type": "code",
      "metadata": {
        "colab": {
          "base_uri": "https://localhost:8080/"
        },
        "id": "mcTe4B_Itvh4",
        "outputId": "3c88ee17-2f73-488e-d585-a1bb20d6d02c"
      },
      "source": [
        "\n",
        "# tokenize the text and turn the labels into a usable array\n",
        "\n",
        "X = tokenizer2.texts_to_sequences(spamd.Message.values)\n",
        "X = pad_sequences(X, maxlen = 50)\n",
        "\n",
        "print('Shape of data tensor:', X.shape)\n",
        "\n",
        "Y = np.array(spamd.category_val)\n",
        "print('Shape of label tensor:', Y.shape)"
      ],
      "execution_count": 31,
      "outputs": [
        {
          "output_type": "stream",
          "text": [
            "Shape of data tensor: (5572, 50)\n",
            "Shape of label tensor: (5572,)\n"
          ],
          "name": "stdout"
        }
      ]
    },
    {
      "cell_type": "code",
      "metadata": {
        "id": "HiUIxbr0tyR2"
      },
      "source": [
        "from sklearn.model_selection import train_test_split\n",
        "\n",
        "X_train2, X_test2, Y_train2, Y_test2 = train_test_split(X,Y,test_size = 0.2)"
      ],
      "execution_count": 32,
      "outputs": []
    },
    {
      "cell_type": "code",
      "metadata": {
        "id": "kyuWFSN7t15L"
      },
      "source": [
        "model2 = Sequential()\n",
        "\n",
        "model2.add(Embedding(10000,250,input_length=X_train2.shape[1]))\n",
        "model2.add(tfkl.Conv1D(32,5, activation='tanh'))\n",
        "model2.add(GlobalMaxPooling1D())\n",
        "model2.add(tfkl.Dense(1,activation=\"sigmoid\"))"
      ],
      "execution_count": 36,
      "outputs": []
    },
    {
      "cell_type": "code",
      "metadata": {
        "colab": {
          "base_uri": "https://localhost:8080/"
        },
        "id": "z7WZfkoVun-L",
        "outputId": "465d1799-2503-488a-a99b-4ffdbd96555d"
      },
      "source": [
        "model2.compile(optimizer = 'adam',\n",
        "             loss = 'binary_crossentropy',\n",
        "             metrics=['acc'])\n",
        "\n",
        "cnn_history = model2.fit(X_train2,Y_train2,epochs = 5,validation_data = (X_test2, Y_test2), batch_size = 64,verbose=1)"
      ],
      "execution_count": 37,
      "outputs": [
        {
          "output_type": "stream",
          "text": [
            "Epoch 1/5\n",
            "70/70 [==============================] - 4s 62ms/step - loss: 0.3028 - acc: 0.8943 - val_loss: 0.1915 - val_acc: 0.9471\n",
            "Epoch 2/5\n",
            "70/70 [==============================] - 4s 59ms/step - loss: 0.1616 - acc: 0.9578 - val_loss: 0.1821 - val_acc: 0.9462\n",
            "Epoch 3/5\n",
            "70/70 [==============================] - 4s 60ms/step - loss: 0.1488 - acc: 0.9574 - val_loss: 0.1703 - val_acc: 0.9480\n",
            "Epoch 4/5\n",
            "70/70 [==============================] - 4s 59ms/step - loss: 0.1376 - acc: 0.9583 - val_loss: 0.1642 - val_acc: 0.9498\n",
            "Epoch 5/5\n",
            "70/70 [==============================] - 4s 60ms/step - loss: 0.1287 - acc: 0.9628 - val_loss: 0.1549 - val_acc: 0.9534\n"
          ],
          "name": "stdout"
        }
      ]
    },
    {
      "cell_type": "code",
      "metadata": {
        "colab": {
          "base_uri": "https://localhost:8080/"
        },
        "id": "tc-EJ2MxusTe",
        "outputId": "ceb0d58b-4218-4679-ea24-62af13720570"
      },
      "source": [
        "acc2 = model2.evaluate(X_test2,Y_test2)\n",
        "print(\"Test loss is {0:.2f} accuracy is {1:.2f}  \".format(acc2[0],acc2[1]))"
      ],
      "execution_count": 38,
      "outputs": [
        {
          "output_type": "stream",
          "text": [
            "35/35 [==============================] - 0s 4ms/step - loss: 0.1549 - acc: 0.9534\n",
            "Test loss is 0.15 accuracy is 0.95  \n"
          ],
          "name": "stdout"
        }
      ]
    },
    {
      "cell_type": "code",
      "metadata": {
        "id": "ybbvW1cMuskl"
      },
      "source": [
        "y_pred2 = model2.predict(X_test2)\n",
        "fpr2, tpr2, thresholds2 = roc_curve(Y_test2,y_pred2)"
      ],
      "execution_count": 39,
      "outputs": []
    },
    {
      "cell_type": "markdown",
      "metadata": {
        "id": "M0su40Xgu0z5"
      },
      "source": [
        "## 3.3 \n",
        "> Be sure to directly compare your two methods with an ROC curve or similar validation method. Don’t forget to create a train-test split."
      ]
    },
    {
      "cell_type": "code",
      "metadata": {
        "id": "xQN3LQuKvbE3"
      },
      "source": [
        "from sklearn.metrics import auc\n",
        "auc1 = auc(fpr1, tpr1)\n",
        "auc2 = auc(fpr2,tpr2)"
      ],
      "execution_count": 40,
      "outputs": []
    },
    {
      "cell_type": "code",
      "metadata": {
        "colab": {
          "base_uri": "https://localhost:8080/",
          "height": 295
        },
        "id": "zN1S5Lm0vrdb",
        "outputId": "6eedb5a1-90aa-4198-e160-738bb64e4bf1"
      },
      "source": [
        "# Both methods seem to give us similar results.\n",
        "# plotting the ROC curve for both models\n",
        "\n",
        "plt.figure(1)\n",
        "plt.plot([0,1],[0,1], 'k--')\n",
        "plt.plot(fpr1,tpr1, label = 'SimpleRNN (area = {:.3f})'.format(auc1))\n",
        "plt.plot(fpr2,tpr2, label = 'CNN (area = {:.3f})'.format(auc2))\n",
        "\n",
        "plt.xlabel('False Pos Rate')\n",
        "plt.ylabel('True Pos Rate')\n",
        "plt.title('ROC Curve')\n",
        "plt.legend(loc='best')\n",
        "plt.show()\n"
      ],
      "execution_count": 41,
      "outputs": [
        {
          "output_type": "display_data",
          "data": {
            "image/png": "[encoded data removed]",
            "text/plain": [
              "<Figure size 432x288 with 1 Axes>"
            ]
          },
          "metadata": {
            "tags": [],
            "needs_background": "light"
          }
        }
      ]
    }
  ]
}